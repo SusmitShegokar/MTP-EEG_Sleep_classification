{
 "cells": [
  {
   "cell_type": "code",
   "execution_count": 1,
   "metadata": {},
   "outputs": [],
   "source": [
    "!mkdir /home/deepak/Documents/Deepak/Students/Susmit_23CS60R75/model_final/Usleep/outputs"
   ]
  },
  {
   "cell_type": "code",
   "execution_count": 2,
   "metadata": {},
   "outputs": [],
   "source": [
    "# !pip install mne==1.4.0"
   ]
  },
  {
   "cell_type": "code",
   "execution_count": 3,
   "metadata": {},
   "outputs": [],
   "source": [
    "OUTPUT_FOLDER='/home/deepak/Documents/Deepak/Students/Susmit_23CS60R75/model_final/Usleep/outputs'"
   ]
  },
  {
   "cell_type": "code",
   "execution_count": 4,
   "metadata": {
    "id": "458BBEygxACF"
   },
   "outputs": [],
   "source": [
    "import os\n",
    "import pickle\n",
    "import numpy as np\n",
    "from tqdm import tqdm\n",
    "import matplotlib.pyplot as plt"
   ]
  },
  {
   "cell_type": "markdown",
   "metadata": {
    "id": "iTtgjHnb_C71"
   },
   "source": [
    "## data_utils"
   ]
  },
  {
   "cell_type": "code",
   "execution_count": 5,
   "metadata": {
    "id": "3VTwOdosGN3B"
   },
   "outputs": [],
   "source": [
    "import mne"
   ]
  },
  {
   "cell_type": "markdown",
   "metadata": {
    "id": "zr8X6O4Cm7Xh"
   },
   "source": [
    "## runner_utils"
   ]
  },
  {
   "cell_type": "code",
   "execution_count": 6,
   "metadata": {
    "id": "fPjpxd2vmyvU"
   },
   "outputs": [],
   "source": [
    "import os\n",
    "import torch\n",
    "import random\n",
    "import numpy as np\n",
    "\n",
    "def seed_everything(seed):\n",
    "    os.environ[\"PYTHONHASHSEED\"] = str(seed)\n",
    "    random.seed(seed)\n",
    "    np.random.seed(seed)\n",
    "    torch.manual_seed(seed)\n",
    "    torch.cuda.manual_seed(seed)\n",
    "    torch.backends.cudnn.deterministic = True"
   ]
  },
  {
   "cell_type": "markdown",
   "metadata": {
    "id": "z8hVD0tG_z8l"
   },
   "source": [
    "## dataset"
   ]
  },
  {
   "cell_type": "code",
   "execution_count": 7,
   "metadata": {
    "id": "1aPOZBfP8O1M"
   },
   "outputs": [],
   "source": [
    "def add_noise(data):\n",
    "    if np.random.rand() > 0.5:\n",
    "        data += np.random.normal(0, 0.01, (data.shape))\n",
    "    return data\n",
    "\n",
    "def handle_mixup(idx, data, label, mixup_data, supervised_mixup_data, mixup_idx, mixup_rate):\n",
    "    mixup_data = mixup_data\n",
    "    # use supervised mixup data if available\n",
    "    if supervised_mixup_data is not None:\n",
    "        mixup_data = supervised_mixup_data[label]\n",
    "    # if mixup condition is set and id is not mixable\n",
    "    if mixup_idx is not None and not mixup_idx[idx]:\n",
    "        mixup_data = None\n",
    "    # do mixup if available\n",
    "    if mixup_data is not None:\n",
    "        data = mixup(data, mixup_data, mixup_rate)\n",
    "    \n",
    "    return data\n",
    "\n",
    "def mixup(data, mixup_data, mixup_rate):\n",
    "    mixup_rate = np.random.rand() * mixup_rate\n",
    "    idx = np.random.randint(0, len(mixup_data))\n",
    "    return (1-mixup_rate)*data + mixup_rate*mixup_data[idx]"
   ]
  },
  {
   "cell_type": "code",
   "execution_count": 8,
   "metadata": {
    "id": "7dEidv1V_wDZ"
   },
   "outputs": [],
   "source": [
    "class SleepDataset(torch.utils.data.Dataset):\n",
    "    def __init__(self, data, labels, transform=None, mixup_data=None, supervised_mixup_data=None, mixup_idx=None, mixup_rate=None):\n",
    "        self.data = data\n",
    "        self.labels = labels\n",
    "        self.transform = transform\n",
    "        \n",
    "        self.supervised_mixup_data = supervised_mixup_data\n",
    "        self.mixup_data = mixup_data\n",
    "        self.mixup_idx = mixup_idx\n",
    "        self.mixup_rate = mixup_rate\n",
    "\n",
    "    def __len__(self):\n",
    "        return len(self.data)\n",
    "\n",
    "    def __getitem__(self, idx):\n",
    "        data = self.data[idx]\n",
    "\n",
    "        if self.labels is not None:\n",
    "            label = self.labels[idx].astype(np.int64)\n",
    "        else:\n",
    "            label = -1\n",
    "        \n",
    "        ### DATA AUGMENTATION ###\n",
    "        data = handle_mixup(idx, data, label, self.mixup_data, self.supervised_mixup_data, self.mixup_idx, self.mixup_rate)\n",
    "\n",
    "        if self.transform:\n",
    "            data = self.transform(data)\n",
    "        ### END DATA AUGMENTATION ###\n",
    "\n",
    "        data = data.astype(np.float32)\n",
    "\n",
    "        return {\"eeg\": data, \"label\": label}"
   ]
  },
  {
   "cell_type": "markdown",
   "metadata": {
    "id": "HINToD0wVG4Q"
   },
   "source": [
    "## runner"
   ]
  },
  {
   "cell_type": "markdown",
   "metadata": {
    "id": "duip5LdjmWHV"
   },
   "source": [
    "### Focal loss"
   ]
  },
  {
   "cell_type": "code",
   "execution_count": 9,
   "metadata": {
    "id": "7g5R7c1rmYOn"
   },
   "outputs": [],
   "source": [
    "import torch.nn.functional as F\n",
    "\n",
    "class FocalLoss(torch.nn.Module):\n",
    "    \"\"\" Focal loss with optional label smoothing.\n",
    "\n",
    "    Calculates mean focal loss over given data with optional label smoothing.\n",
    "\n",
    "    Attributes\n",
    "    ----------\n",
    "        alpha: int = 1\n",
    "        gamma: int = 2\n",
    "        logits: bool = True\n",
    "        reduce: bool = True\n",
    "        ls: float = None\n",
    "            label smoothing ratio, if None label smoothing will not be applied\n",
    "        classes: int = None\n",
    "            number of classes required for label smoothing\n",
    "    \"\"\"\n",
    "\n",
    "    def __init__(\n",
    "        self,\n",
    "        alpha: int = 1,\n",
    "        gamma: int = 2,\n",
    "        logits: bool = True,\n",
    "        reduce: bool = True,\n",
    "        ls: float = 0.05,\n",
    "        classes: int = 6,\n",
    "    ):\n",
    "        super(FocalLoss, self).__init__()\n",
    "        self.alpha = alpha\n",
    "        self.gamma = gamma\n",
    "        self.logits = logits\n",
    "        self.reduce = reduce\n",
    "        self.ls = ls\n",
    "        self.classes = classes\n",
    "\n",
    "    def forward(self, inputs, targets):\n",
    "        targets = F.one_hot(targets, num_classes=6)\n",
    "\n",
    "        if self.ls is not None:\n",
    "            targets = (1 - self.ls) * targets + self.ls / self.classes\n",
    "\n",
    "        if self.logits:\n",
    "            BCE_loss = F.binary_cross_entropy_with_logits(inputs, targets, reduction=\"none\")\n",
    "        else:\n",
    "            BCE_loss = F.binary_cross_entropy(inputs, targets, reduction=\"none\")\n",
    "\n",
    "        pt = torch.exp(-BCE_loss)\n",
    "        F_loss = self.alpha * (1 - pt) ** self.gamma * BCE_loss\n",
    "\n",
    "        if self.reduce:\n",
    "            return torch.mean(F_loss)\n",
    "        else:\n",
    "            return F_loss"
   ]
  },
  {
   "cell_type": "markdown",
   "metadata": {
    "id": "43a4q46BYy8d"
   },
   "source": [
    "### VAT"
   ]
  },
  {
   "cell_type": "code",
   "execution_count": 10,
   "metadata": {
    "id": "VU_cmbORYz65"
   },
   "outputs": [],
   "source": [
    "# implementation from: https://github.com/lyakaap/VAT-pytorch\n",
    "\n",
    "import contextlib\n",
    "import torch\n",
    "import torch.nn as nn\n",
    "import torch.nn.functional as F\n",
    "\n",
    "\n",
    "@contextlib.contextmanager\n",
    "def _disable_tracking_bn_stats(model):\n",
    "\n",
    "    def switch_attr(m):\n",
    "        if hasattr(m, 'track_running_stats'):\n",
    "            m.track_running_stats ^= True\n",
    "            \n",
    "    model.apply(switch_attr)\n",
    "    yield\n",
    "    model.apply(switch_attr)\n",
    "\n",
    "\n",
    "def _l2_normalize(d):\n",
    "    d_reshaped = d.view(d.shape[0], -1, *(1 for _ in range(d.dim() - 2)))\n",
    "    d /= torch.norm(d_reshaped, dim=1, keepdim=True) + 1e-8\n",
    "    return d\n",
    "\n",
    "\n",
    "class VATLoss(nn.Module):\n",
    "\n",
    "    def __init__(self, xi=10.0, eps=1.0, ip=1):\n",
    "        \"\"\"VAT loss\n",
    "        :param xi: hyperparameter of VAT (default: 10.0)\n",
    "        :param eps: hyperparameter of VAT (default: 1.0)\n",
    "        :param ip: iteration times of computing adv noise (default: 1)\n",
    "        \"\"\"\n",
    "        super(VATLoss, self).__init__()\n",
    "        self.xi = xi\n",
    "        self.eps = eps\n",
    "        self.ip = ip\n",
    "\n",
    "    def forward(self, model, x):\n",
    "        with torch.no_grad():\n",
    "            pred = F.softmax(model(x), dim=1)\n",
    "\n",
    "        # prepare random unit tensor\n",
    "        d = torch.rand(x.shape).sub(0.5).to(x.device)\n",
    "        d = _l2_normalize(d)\n",
    "\n",
    "        with _disable_tracking_bn_stats(model):\n",
    "            # calc adversarial direction\n",
    "            for _ in range(self.ip):\n",
    "                d.requires_grad_()\n",
    "                pred_hat = model(x + self.xi * d)\n",
    "                logp_hat = F.log_softmax(pred_hat, dim=1)\n",
    "                adv_distance = F.kl_div(logp_hat, pred, reduction='batchmean')\n",
    "                adv_distance.backward()\n",
    "                d = _l2_normalize(d.grad)\n",
    "                model.zero_grad()\n",
    "    \n",
    "            # calc LDS\n",
    "            r_adv = d * self.eps\n",
    "            pred_hat = model(x + r_adv)\n",
    "            logp_hat = F.log_softmax(pred_hat, dim=1)\n",
    "            lds = F.kl_div(logp_hat, pred, reduction='batchmean')\n",
    "\n",
    "        return lds"
   ]
  },
  {
   "cell_type": "markdown",
   "metadata": {
    "id": "4iFeq1WGmNWO"
   },
   "source": [
    "### train, validate, predict"
   ]
  },
  {
   "cell_type": "code",
   "execution_count": 11,
   "metadata": {
    "id": "o3_fBKRWVJbq"
   },
   "outputs": [],
   "source": [
    "import torch\n",
    "import numpy as np\n",
    "\n",
    "def train_epoch(args, model, loader, criterion, optimizer, scheduler, epoch):\n",
    "    losses = []\n",
    "    targets_all = []\n",
    "    outputs_all = []\n",
    "\n",
    "    vat_loss = VATLoss(xi=10.0, eps=1.0, ip=1)\n",
    "\n",
    "    model.train()\n",
    "    t = tqdm(loader)\n",
    "\n",
    "    for i, sample in enumerate(t):\n",
    "        optimizer.zero_grad()\n",
    "\n",
    "        eeg = sample[\"eeg\"].to(args.device)\n",
    "        target = sample[\"label\"].to(args.device)\n",
    "\n",
    "        lds = vat_loss(model, eeg)\n",
    "        output = model(eeg)\n",
    "        loss = criterion(output, target) + args.alpha * lds\n",
    "        loss.backward()\n",
    "        optimizer.step()\n",
    "\n",
    "        if scheduler is not None:\n",
    "            scheduler.step()\n",
    "\n",
    "        losses.append(loss.item())\n",
    "        \n",
    "        target = target.cpu().numpy()\n",
    "        output = output.detach().cpu().numpy()\n",
    "\n",
    "        targets_all.extend(target)\n",
    "        outputs_all.extend(output)\n",
    "\n",
    "        output_loss = np.mean(losses)\n",
    "        output_score = np.mean(targets_all == np.argmax(outputs_all, axis=1))\n",
    "\n",
    "        t.set_description(\n",
    "            f\"Epoch {epoch}/{args.epochs} - Train loss: {output_loss:0.4f}, score: {output_score:0.4f}\"\n",
    "        )\n",
    "\n",
    "    return targets_all, outputs_all, output_score, output_loss\n",
    "\n",
    "\n",
    "def validate(args, model, loader, criterion, desc=\"Valid\"):\n",
    "    losses = []\n",
    "    targets_all = []\n",
    "    outputs_all = []\n",
    "\n",
    "    t = tqdm(loader)\n",
    "    model.eval()\n",
    "    with torch.no_grad():\n",
    "        for i, sample in enumerate(t):\n",
    "            eeg = sample[\"eeg\"].to(args.device)\n",
    "            target = sample[\"label\"].to(args.device)\n",
    "\n",
    "            output = model(eeg)\n",
    "            loss = criterion(output, target)\n",
    "\n",
    "            losses.append(loss.item())\n",
    "            targets_all.extend(target.cpu().numpy())\n",
    "            outputs_all.extend(output.detach().cpu().numpy())\n",
    "\n",
    "            output_loss = np.mean(losses)\n",
    "            output_score = np.mean(targets_all == np.argmax(outputs_all, axis=1))\n",
    "\n",
    "            t.set_description(\n",
    "                f\"\\t  - {desc} loss: {output_loss:0.4f}, score: {output_score:0.4f}\"\n",
    "            )\n",
    "\n",
    "    return targets_all, outputs_all, output_score, output_loss\n",
    "\n",
    "\n",
    "def predict(args, model, loader):\n",
    "    outputs_all = []\n",
    "\n",
    "    t = tqdm(loader)\n",
    "    model.eval()\n",
    "    with torch.no_grad():\n",
    "        for i, sample in enumerate(t):\n",
    "            eeg = sample[\"eeg\"].to(args.device)\n",
    "\n",
    "            output = model(eeg)\n",
    "            outputs_all.extend(output.detach().cpu().numpy())\n",
    "    return outputs_all"
   ]
  },
  {
   "cell_type": "markdown",
   "metadata": {
    "id": "gMPUxGe0X4L_"
   },
   "source": [
    "## model"
   ]
  },
  {
   "cell_type": "code",
   "execution_count": 12,
   "metadata": {
    "id": "SjtnkFJrhTp8"
   },
   "outputs": [],
   "source": [
    "import torch\n",
    "import torch.nn as nn"
   ]
  },
  {
   "cell_type": "code",
   "execution_count": 13,
   "metadata": {},
   "outputs": [
    {
     "name": "stdout",
     "output_type": "stream",
     "text": [
      "EEGClassifier(\n",
      "  (base): BaseEEGClassifier(\n",
      "    (usleep): USleep(\n",
      "      (encoder): Sequential(\n",
      "        (0): _EncoderBlock(\n",
      "          (block_prepool): Sequential(\n",
      "            (0): Conv1d(2, 6, kernel_size=(7,), stride=(1,), padding=same)\n",
      "            (1): ELU(alpha=1.0)\n",
      "            (2): BatchNorm1d(6, eps=1e-05, momentum=0.1, affine=True, track_running_stats=True)\n",
      "          )\n",
      "          (pad): ConstantPad1d(padding=(1, 1), value=0)\n",
      "          (maxpool): MaxPool1d(kernel_size=2, stride=2, padding=0, dilation=1, ceil_mode=False)\n",
      "        )\n",
      "        (1): _EncoderBlock(\n",
      "          (block_prepool): Sequential(\n",
      "            (0): Conv1d(6, 9, kernel_size=(7,), stride=(1,), padding=same)\n",
      "            (1): ELU(alpha=1.0)\n",
      "            (2): BatchNorm1d(9, eps=1e-05, momentum=0.1, affine=True, track_running_stats=True)\n",
      "          )\n",
      "          (pad): ConstantPad1d(padding=(1, 1), value=0)\n",
      "          (maxpool): MaxPool1d(kernel_size=2, stride=2, padding=0, dilation=1, ceil_mode=False)\n",
      "        )\n",
      "        (2): _EncoderBlock(\n",
      "          (block_prepool): Sequential(\n",
      "            (0): Conv1d(9, 11, kernel_size=(7,), stride=(1,), padding=same)\n",
      "            (1): ELU(alpha=1.0)\n",
      "            (2): BatchNorm1d(11, eps=1e-05, momentum=0.1, affine=True, track_running_stats=True)\n",
      "          )\n",
      "          (pad): ConstantPad1d(padding=(1, 1), value=0)\n",
      "          (maxpool): MaxPool1d(kernel_size=2, stride=2, padding=0, dilation=1, ceil_mode=False)\n",
      "        )\n",
      "        (3): _EncoderBlock(\n",
      "          (block_prepool): Sequential(\n",
      "            (0): Conv1d(11, 15, kernel_size=(7,), stride=(1,), padding=same)\n",
      "            (1): ELU(alpha=1.0)\n",
      "            (2): BatchNorm1d(15, eps=1e-05, momentum=0.1, affine=True, track_running_stats=True)\n",
      "          )\n",
      "          (pad): ConstantPad1d(padding=(1, 1), value=0)\n",
      "          (maxpool): MaxPool1d(kernel_size=2, stride=2, padding=0, dilation=1, ceil_mode=False)\n",
      "        )\n",
      "        (4): _EncoderBlock(\n",
      "          (block_prepool): Sequential(\n",
      "            (0): Conv1d(15, 20, kernel_size=(7,), stride=(1,), padding=same)\n",
      "            (1): ELU(alpha=1.0)\n",
      "            (2): BatchNorm1d(20, eps=1e-05, momentum=0.1, affine=True, track_running_stats=True)\n",
      "          )\n",
      "          (pad): ConstantPad1d(padding=(1, 1), value=0)\n",
      "          (maxpool): MaxPool1d(kernel_size=2, stride=2, padding=0, dilation=1, ceil_mode=False)\n",
      "        )\n",
      "        (5): _EncoderBlock(\n",
      "          (block_prepool): Sequential(\n",
      "            (0): Conv1d(20, 28, kernel_size=(7,), stride=(1,), padding=same)\n",
      "            (1): ELU(alpha=1.0)\n",
      "            (2): BatchNorm1d(28, eps=1e-05, momentum=0.1, affine=True, track_running_stats=True)\n",
      "          )\n",
      "          (pad): ConstantPad1d(padding=(1, 1), value=0)\n",
      "          (maxpool): MaxPool1d(kernel_size=2, stride=2, padding=0, dilation=1, ceil_mode=False)\n",
      "        )\n",
      "      )\n",
      "      (bottom): Sequential(\n",
      "        (0): Conv1d(28, 40, kernel_size=(7,), stride=(1,), padding=(3,))\n",
      "        (1): ELU(alpha=1.0)\n",
      "        (2): BatchNorm1d(40, eps=1e-05, momentum=0.1, affine=True, track_running_stats=True)\n",
      "      )\n",
      "      (decoder): Sequential(\n",
      "        (0): _DecoderBlock(\n",
      "          (block_preskip): Sequential(\n",
      "            (0): Upsample(scale_factor=2.0, mode='nearest')\n",
      "            (1): Conv1d(40, 28, kernel_size=(2,), stride=(1,), padding=same)\n",
      "            (2): ELU(alpha=1.0)\n",
      "            (3): BatchNorm1d(28, eps=1e-05, momentum=0.1, affine=True, track_running_stats=True)\n",
      "          )\n",
      "          (block_postskip): Sequential(\n",
      "            (0): Conv1d(56, 28, kernel_size=(7,), stride=(1,), padding=same)\n",
      "            (1): ELU(alpha=1.0)\n",
      "            (2): BatchNorm1d(28, eps=1e-05, momentum=0.1, affine=True, track_running_stats=True)\n",
      "          )\n",
      "        )\n",
      "        (1): _DecoderBlock(\n",
      "          (block_preskip): Sequential(\n",
      "            (0): Upsample(scale_factor=2.0, mode='nearest')\n",
      "            (1): Conv1d(28, 20, kernel_size=(2,), stride=(1,), padding=same)\n",
      "            (2): ELU(alpha=1.0)\n",
      "            (3): BatchNorm1d(20, eps=1e-05, momentum=0.1, affine=True, track_running_stats=True)\n",
      "          )\n",
      "          (block_postskip): Sequential(\n",
      "            (0): Conv1d(40, 20, kernel_size=(7,), stride=(1,), padding=same)\n",
      "            (1): ELU(alpha=1.0)\n",
      "            (2): BatchNorm1d(20, eps=1e-05, momentum=0.1, affine=True, track_running_stats=True)\n",
      "          )\n",
      "        )\n",
      "        (2): _DecoderBlock(\n",
      "          (block_preskip): Sequential(\n",
      "            (0): Upsample(scale_factor=2.0, mode='nearest')\n",
      "            (1): Conv1d(20, 15, kernel_size=(2,), stride=(1,), padding=same)\n",
      "            (2): ELU(alpha=1.0)\n",
      "            (3): BatchNorm1d(15, eps=1e-05, momentum=0.1, affine=True, track_running_stats=True)\n",
      "          )\n",
      "          (block_postskip): Sequential(\n",
      "            (0): Conv1d(30, 15, kernel_size=(7,), stride=(1,), padding=same)\n",
      "            (1): ELU(alpha=1.0)\n",
      "            (2): BatchNorm1d(15, eps=1e-05, momentum=0.1, affine=True, track_running_stats=True)\n",
      "          )\n",
      "        )\n",
      "        (3): _DecoderBlock(\n",
      "          (block_preskip): Sequential(\n",
      "            (0): Upsample(scale_factor=2.0, mode='nearest')\n",
      "            (1): Conv1d(15, 11, kernel_size=(2,), stride=(1,), padding=same)\n",
      "            (2): ELU(alpha=1.0)\n",
      "            (3): BatchNorm1d(11, eps=1e-05, momentum=0.1, affine=True, track_running_stats=True)\n",
      "          )\n",
      "          (block_postskip): Sequential(\n",
      "            (0): Conv1d(22, 11, kernel_size=(7,), stride=(1,), padding=same)\n",
      "            (1): ELU(alpha=1.0)\n",
      "            (2): BatchNorm1d(11, eps=1e-05, momentum=0.1, affine=True, track_running_stats=True)\n",
      "          )\n",
      "        )\n",
      "        (4): _DecoderBlock(\n",
      "          (block_preskip): Sequential(\n",
      "            (0): Upsample(scale_factor=2.0, mode='nearest')\n",
      "            (1): Conv1d(11, 9, kernel_size=(2,), stride=(1,), padding=same)\n",
      "            (2): ELU(alpha=1.0)\n",
      "            (3): BatchNorm1d(9, eps=1e-05, momentum=0.1, affine=True, track_running_stats=True)\n",
      "          )\n",
      "          (block_postskip): Sequential(\n",
      "            (0): Conv1d(18, 9, kernel_size=(7,), stride=(1,), padding=same)\n",
      "            (1): ELU(alpha=1.0)\n",
      "            (2): BatchNorm1d(9, eps=1e-05, momentum=0.1, affine=True, track_running_stats=True)\n",
      "          )\n",
      "        )\n",
      "        (5): _DecoderBlock(\n",
      "          (block_preskip): Sequential(\n",
      "            (0): Upsample(scale_factor=2.0, mode='nearest')\n",
      "            (1): Conv1d(9, 6, kernel_size=(2,), stride=(1,), padding=same)\n",
      "            (2): ELU(alpha=1.0)\n",
      "            (3): BatchNorm1d(6, eps=1e-05, momentum=0.1, affine=True, track_running_stats=True)\n",
      "          )\n",
      "          (block_postskip): Sequential(\n",
      "            (0): Conv1d(12, 6, kernel_size=(7,), stride=(1,), padding=same)\n",
      "            (1): ELU(alpha=1.0)\n",
      "            (2): BatchNorm1d(6, eps=1e-05, momentum=0.1, affine=True, track_running_stats=True)\n",
      "          )\n",
      "        )\n",
      "      )\n",
      "      (clf): Sequential(\n",
      "        (0): Conv1d(6, 6, kernel_size=(1,), stride=(1,))\n",
      "        (1): Tanh()\n",
      "        (2): AvgPool1d(kernel_size=(3000,), stride=(3000,), padding=(0,))\n",
      "      )\n",
      "      (final_layer): Sequential(\n",
      "        (0): Conv1d(6, 5, kernel_size=(1,), stride=(1,))\n",
      "        (1): ELU(alpha=1.0)\n",
      "        (2): Conv1d(5, 5, kernel_size=(1,), stride=(1,))\n",
      "        (3): Identity()\n",
      "      )\n",
      "    )\n",
      "  )\n",
      "  (fc): Linear(in_features=5, out_features=6, bias=True)\n",
      ")\n"
     ]
    },
    {
     "name": "stderr",
     "output_type": "stream",
     "text": [
      "/home/deepak/miniconda3/lib/python3.12/site-packages/torch/nn/utils/weight_norm.py:134: FutureWarning: `torch.nn.utils.weight_norm` is deprecated in favor of `torch.nn.utils.parametrizations.weight_norm`.\n",
      "  WeightNorm.apply(module, name, dim)\n"
     ]
    }
   ],
   "source": [
    "import torch\n",
    "import torch.nn as nn\n",
    "import torch.nn.functional as F\n",
    "from braindecode.models import USleep\n",
    "\n",
    "def get_linear(in_features, out_features):\n",
    "    return nn.utils.weight_norm(nn.Linear(in_features, out_features))\n",
    "\n",
    "class BaseEEGClassifier(nn.Module):\n",
    "    def __init__(self, n_chans=2, sfreq=100, depth=6, n_time_filters=5, \n",
    "                 complexity_factor=1.67, with_skip_connection=True, n_outputs=5, \n",
    "                 input_window_seconds=30, time_conv_size_s=9 / 128, ensure_odd_conv_size=True):\n",
    "        super(BaseEEGClassifier, self).__init__()\n",
    "        \n",
    "        self.usleep = USleep(\n",
    "            n_chans=n_chans,\n",
    "            sfreq=sfreq,\n",
    "            depth=depth,\n",
    "            n_time_filters=n_time_filters,\n",
    "            complexity_factor=complexity_factor,\n",
    "            with_skip_connection=with_skip_connection,\n",
    "            n_outputs=n_outputs,\n",
    "            input_window_seconds=input_window_seconds,\n",
    "            time_conv_size_s=time_conv_size_s,\n",
    "            ensure_odd_conv_size=ensure_odd_conv_size\n",
    "        )\n",
    "\n",
    "    def forward(self, x):\n",
    "        x = self.usleep(x)\n",
    "        return x\n",
    "\n",
    "class EEGClassifier(nn.Module):\n",
    "    def __init__(self):\n",
    "        super(EEGClassifier, self).__init__()\n",
    "\n",
    "        self.base = BaseEEGClassifier()\n",
    "        self.fc = get_linear(5, 6)  # Adjust based on USleep output features\n",
    "\n",
    "    def features(self, x):\n",
    "        x = self.base(x)\n",
    "        return x\n",
    "\n",
    "    def forward(self, x):\n",
    "        x = self.features(x)\n",
    "        x = self.fc(x)\n",
    "        return x\n",
    "\n",
    "# Example usage\n",
    "model = EEGClassifier()\n",
    "print(model)\n"
   ]
  },
  {
   "cell_type": "code",
   "execution_count": 14,
   "metadata": {
    "id": "zTMVQpxbYi7o"
   },
   "outputs": [],
   "source": [
    "import seaborn as sns\n",
    "from torch.utils.data import DataLoader, WeightedRandomSampler\n",
    "from sklearn.metrics import confusion_matrix"
   ]
  },
  {
   "cell_type": "markdown",
   "metadata": {
    "id": "6vqs7U7vqiyd"
   },
   "source": [
    "### args"
   ]
  },
  {
   "cell_type": "code",
   "execution_count": 15,
   "metadata": {
    "id": "wI4A8-pCYsUW"
   },
   "outputs": [],
   "source": [
    "import json\n",
    "\n",
    "class base_args(object):\n",
    "    def __init__(self, model_name, seed=42):\n",
    "        self.model_name = model_name\n",
    "        self.seed = seed\n",
    "\n",
    "        self.lr = 1e-3\n",
    "        self.epochs = 5\n",
    "        self.batch_size = 120\n",
    "        self.num_workers = 2\n",
    "        self.device = ('cuda' if torch.cuda.is_available() else 'cpu')\n",
    "        self.alpha = 0.01\n",
    "        self.phase = \"base\"\n",
    "\n",
    "    def toJSON(self):\n",
    "        return json.dumps(self, default=lambda o: o.__dict__, sort_keys=True, indent=4)\n",
    "\n",
    "    def get_model_name(self):\n",
    "        return f\"{self.model_name}_{self.phase}\""
   ]
  },
  {
   "cell_type": "markdown",
   "metadata": {
    "id": "u8MwnK-aAM5r"
   },
   "source": [
    "### experiment helper functions"
   ]
  },
  {
   "cell_type": "code",
   "execution_count": 16,
   "metadata": {
    "id": "nOcEgm77xoR1"
   },
   "outputs": [],
   "source": [
    "def train_model(args, model, \n",
    "          train_data, train_labels, \n",
    "          valid_data, valid_labels, \n",
    "          train_weights=None, sample_rate=None, \n",
    "          use_scheduler=True,\n",
    "          history = {\"Train\": {\"Score\": [], \"Loss\": []}, \n",
    "                     \"Valid\": {\"Score\": [], \"Loss\": []}},\n",
    "          mixup_data=None, supervised_mixup_data=None, mixup_idx=None, mixup_rate=None):\n",
    "    \n",
    "    train_dataset = SleepDataset(train_data, train_labels, transform=add_noise, \n",
    "                                 mixup_data=mixup_data, supervised_mixup_data=supervised_mixup_data, \n",
    "                                 mixup_idx=mixup_idx, mixup_rate=mixup_rate)\n",
    "    \n",
    "    if train_weights is not None:\n",
    "        train_sampler = WeightedRandomSampler(weights = train_weights, num_samples=int(len(train_labels)*sample_rate))\n",
    "        train_loader = DataLoader(train_dataset, num_workers=args.num_workers, batch_size=args.batch_size, sampler=train_sampler, drop_last=True)\n",
    "    else:\n",
    "        train_loader = DataLoader(train_dataset, num_workers=args.num_workers, batch_size=args.batch_size, shuffle=True, drop_last=True)\n",
    "\n",
    "    model = model.to(args.device)\n",
    "    criterion = FocalLoss()\n",
    "    optimizer = torch.optim.AdamW(model.parameters(), lr=args.lr, weight_decay=5e-4)\n",
    "\n",
    "    if use_scheduler:\n",
    "        scheduler = torch.optim.lr_scheduler.OneCycleLR(\n",
    "                        optimizer,\n",
    "                        max_lr=args.lr,\n",
    "                        epochs=args.epochs,\n",
    "                        steps_per_epoch=len(train_loader),\n",
    "                        div_factor=10, \n",
    "                        final_div_factor=10,\n",
    "                        pct_start=0.1,\n",
    "                        anneal_strategy=\"cos\",\n",
    "                    )\n",
    "    else:\n",
    "        scheduler = None\n",
    "    \n",
    "    for epoch in range(1, args.epochs+1):\n",
    "        _, _, train_score, train_loss = train_epoch(args, model, train_loader, criterion, optimizer, scheduler, epoch)\n",
    "        _, _, valid_score, valid_loss = validate_model(args, model, valid_data, valid_labels, show_plot=False)\n",
    "\n",
    "        history[\"Train\"][\"Loss\"].append(train_loss)\n",
    "        history[\"Train\"][\"Score\"].append(train_score)\n",
    "        history[\"Valid\"][\"Loss\"].append(valid_loss)\n",
    "        history[\"Valid\"][\"Score\"].append(valid_score)\n",
    "\n",
    "    torch.save(model.state_dict(), f\"{OUTPUT_FOLDER}best_model_{args.get_model_name()}.pt\")\n",
    "\n",
    "\n",
    "def validate_model(args, model, valid_data, valid_labels, desc=\"Target\", show_plot=True):\n",
    "    criterion = FocalLoss()\n",
    "\n",
    "    valid_dataset = SleepDataset(valid_data, valid_labels)\n",
    "    valid_loader = DataLoader(valid_dataset, num_workers=args.num_workers, batch_size=args.batch_size, shuffle=False)\n",
    "    targets_all, outputs_all, output_score, output_loss = validate(args, model, valid_loader, criterion, desc)\n",
    "    \n",
    "    if show_plot:\n",
    "        cf_mat = confusion_matrix(targets_all, np.argmax(outputs_all, axis=1), normalize=\"true\")\n",
    "        plt.figure()\n",
    "        sns.heatmap(cf_mat, annot=True)\n",
    "        plt.show()\n",
    "\n",
    "    return targets_all, outputs_all, output_score, output_loss\n",
    "\n",
    "\n",
    "def get_prediction(args, model, data):\n",
    "    model.to(args.device)\n",
    "    model.load_state_dict(torch.load(f\"{OUTPUT_FOLDER}best_model_{args.get_model_name()}.pt\"))\n",
    "    \n",
    "    dataset = SleepDataset(data, None)\n",
    "    loader = DataLoader(dataset, num_workers=args.num_workers, batch_size=args.batch_size, shuffle=False)\n",
    "\n",
    "    output = predict(args, model, loader)\n",
    "    return output\n",
    "\n",
    "\n",
    "def ensemble(args_array, dataset_name=\"test\", phase=None):\n",
    "    ensemble_output = None\n",
    "\n",
    "    for args in args_array:\n",
    "        if phase is None:\n",
    "            fn = f\"{OUTPUT_FOLDER}{args.get_model_name()}-{dataset_name}_output.npy\"\n",
    "        else:\n",
    "            fn = f\"{OUTPUT_FOLDER}{args.model_name}_{phase}-{dataset_name}_output.npy\"\n",
    "            \n",
    "        output = np.load(fn)\n",
    "        if ensemble_output is None:\n",
    "            ensemble_output = output\n",
    "        else:\n",
    "            ensemble_output += output\n",
    "    \n",
    "    return ensemble_output\n",
    "    \n",
    "\n",
    "def predict_and_save(args, model, target_data, test_data):\n",
    "    target_output = get_prediction(args, model, target_data)\n",
    "    np.save(f\"{OUTPUT_FOLDER}{args.get_model_name()}-target_output.npy\", target_output)\n",
    "    \n",
    "    test_output = get_prediction(args, model, test_data)\n",
    "    np.save(f\"{OUTPUT_FOLDER}{args.get_model_name()}-test_output.npy\", test_output)\n",
    "\n",
    "\n",
    "def plot_history(history):\n",
    "    fig, axes = plt.subplots(2,1, figsize=(22,6))\n",
    "    axes[0].plot(history[\"Train\"][\"Score\"], label=\"Train score\")\n",
    "    axes[0].plot(history[\"Valid\"][\"Score\"], label=\"Valid score\")\n",
    "    axes[0].legend()\n",
    "    axes[1].plot(history[\"Train\"][\"Loss\"], label=\"Train loss\")\n",
    "    axes[1].plot(history[\"Valid\"][\"Loss\"], label=\"Valid loss\")\n",
    "    axes[1].legend()\n",
    "    fig.show()"
   ]
  },
  {
   "cell_type": "markdown",
   "metadata": {
    "id": "bzo9LCObFmVa"
   },
   "source": [
    "### competition data loaders"
   ]
  },
  {
   "cell_type": "markdown",
   "metadata": {
    "id": "JMXg2fEUFsk3"
   },
   "source": [
    "### training pipeline function"
   ]
  },
  {
   "cell_type": "code",
   "execution_count": 17,
   "metadata": {
    "id": "s1TkNDtYSVI6"
   },
   "outputs": [],
   "source": [
    "def supervised_run(args, model, train_data, train_labels, target_data, target_labels, test_data, mixup_data=None, supervised_mixup_data=None):\n",
    "    print(args.toJSON())\n",
    "\n",
    "    history = {\"Train\": {\"Score\": [], \"Loss\": []}, \n",
    "               \"Valid\": {\"Score\": [], \"Loss\": []}}\n",
    "\n",
    "    ############################\n",
    "    ### USE ONLY SOURCE DATA ###\n",
    "    ############################\n",
    "    args.phase = \"base\"\n",
    "\n",
    "    train_model(args, model, \n",
    "                train_data, train_labels, \n",
    "                target_data, target_labels, \n",
    "                mixup_data=mixup_data, mixup_rate=0.,\n",
    "                history=history)\n",
    "    # validate\n",
    "    model.load_state_dict(torch.load(f\"{OUTPUT_FOLDER}best_model_{args.get_model_name()}.pt\"))\n",
    "    print(\"\\n###### PHASE 1 FINISHED ##########\")\n",
    "    validate_model(args, model, target_data, target_labels, \"Target\")\n",
    "    # make predictions and save results\n",
    "    predict_and_save(args, model, target_data, test_data)\n",
    "\n",
    "\n",
    "    ##############################\n",
    "    ### SOURCE DATA WITH SUPERVISED MIXUP ###\n",
    "    ##############################\n",
    "    args.lr = 1e-4\n",
    "    args.epochs = 10\n",
    "    args.phase = \"mixup\"\n",
    "\n",
    "    train_model(args, model, \n",
    "                train_data, train_labels, \n",
    "                target_data, target_labels, \n",
    "                supervised_mixup_data=supervised_mixup_data, mixup_rate=0.5,\n",
    "                history=history)\n",
    "    # validate\n",
    "    model.load_state_dict(torch.load(f\"{OUTPUT_FOLDER}best_model_{args.get_model_name()}.pt\"))\n",
    "    print(\"\\n###### PHASE 2 FINISHED ########OUTPUT_FOLDER##\")\n",
    "    validate_model(args, model, target_data, target_labels, \"Target\")\n",
    "    # make predictions and save results\n",
    "    predict_and_save(args, model, target_data, test_data)\n",
    "\n",
    "    ###############################\n",
    "    ### FINETUNE ON TARGET DATA WITH MIXED UP SOURCE ###\n",
    "    ###############################\n",
    "    args.lr = 1e-3\n",
    "    args.epochs = 20\n",
    "    args.phase = \"mixup_finetuned\"\n",
    "    # prepare extended train data with sampler settings\n",
    "    extended_train_data = np.concatenate((train_data, target_data), axis=0)\n",
    "    extended_train_labels = np.concatenate((train_labels, target_labels), axis=0)\n",
    "\n",
    "    train_weights = [0.25] * len(train_labels) + [0.75] * len(target_labels)\n",
    "    mixup_idx = [True] * len(train_labels) + [False] * len(target_labels)\n",
    "    train_sample_rate = 0.5\n",
    "\n",
    "    train_model(args, model, \n",
    "                extended_train_data, extended_train_labels,\n",
    "                target_data, target_labels,\n",
    "                train_weights = train_weights, sample_rate=train_sample_rate,\n",
    "                mixup_data=mixup_data, mixup_idx=mixup_idx, mixup_rate=0.5,\n",
    "                use_scheduler=True, history=history)\n",
    "    \n",
    "    # validate\n",
    "    model.load_state_dict(torch.load(f\"{OUTPUT_FOLDER}best_model_{args.get_model_name()}.pt\"))\n",
    "    print(\"\\n###### PHASE 3 FINISHED ##########\")\n",
    "    validate_model(args, model, target_data, target_labels, \"Target\")\n",
    "    # make predictions and save results\n",
    "    predict_and_save(args, model, target_data, test_data)\n",
    "    # plot training history\n",
    "    plot_history(history)"
   ]
  },
  {
   "cell_type": "markdown",
   "metadata": {
    "id": "FEjmRhhGF4yL"
   },
   "source": [
    "### training"
   ]
  },
  {
   "cell_type": "code",
   "execution_count": 20,
   "metadata": {},
   "outputs": [
    {
     "name": "stdout",
     "output_type": "stream",
     "text": [
      "Train data shape: (72436, 2, 3000)\n",
      "Train labels shape: (72436,)\n",
      "Validate data shape: (9054, 2, 3000)\n",
      "Validate labels shape: (9054,)\n",
      "Test data shape: (9055, 2, 3000)\n",
      "Test labels shape: (9055,)\n",
      "Total data size (number of samples): 90545\n"
     ]
    }
   ],
   "source": [
    "import numpy as np\n",
    "\n",
    "# Load train data and labels\n",
    "source_data = np.load('/home/deepak/Documents/Deepak/Students/Susmit_23CS60R75/model_final/data/train/data.npy')\n",
    "source_labels = np.load('/home/deepak/Documents/Deepak/Students/Susmit_23CS60R75/model_final/data/train/labels.npy')\n",
    "\n",
    "# Load validate data and labels\n",
    "target_data = np.load('/home/deepak/Documents/Deepak/Students/Susmit_23CS60R75/model_final/data/validate/data.npy')\n",
    "target_labels = np.load('/home/deepak/Documents/Deepak/Students/Susmit_23CS60R75/model_final/data/validate/labels.npy')\n",
    "\n",
    "# Load test data and labels\n",
    "test_data = np.load('/home/deepak/Documents/Deepak/Students/Susmit_23CS60R75/model_final/data/test/data.npy')\n",
    "test_labels = np.load('/home/deepak/Documents/Deepak/Students/Susmit_23CS60R75/model_final/data/test/labels.npy')\n",
    "\n",
    "# Print the shape of each\n",
    "print(\"Train data shape:\", source_data.shape)\n",
    "print(\"Train labels shape:\", source_labels.shape)\n",
    "print(\"Validate data shape:\", target_data.shape)\n",
    "print(\"Validate labels shape:\", target_labels.shape)\n",
    "print(\"Test data shape:\", test_data.shape)\n",
    "print(\"Test labels shape:\", test_labels.shape)\n",
    "\n",
    "# Calculate and print total data size (total number of samples)\n",
    "total_data_size = source_labels.shape[0] + target_data.shape[0] + test_data.shape[0]\n",
    "print(\"Total data size (number of samples):\", total_data_size)\n"
   ]
  },
  {
   "cell_type": "code",
   "execution_count": 21,
   "metadata": {},
   "outputs": [
    {
     "name": "stdout",
     "output_type": "stream",
     "text": [
      "{0: 26.55180030925558, 1: 8.769604594654297, 2: 39.7393417274133, 3: 5.798542080848244, 4: 3.3797216699801194, 5: 15.760989617848464}\n"
     ]
    }
   ],
   "source": [
    "import numpy as np\n",
    "\n",
    "# Assuming y_train is your array\n",
    "unique_classes, counts = np.unique(target_labels, return_counts=True)\n",
    "\n",
    "# Calculating the total number of entries\n",
    "total_entries = counts.sum()\n",
    "\n",
    "# Creating a dictionary to show class: percentage of entries\n",
    "class_percentages = {cls: (count / total_entries) * 100 for cls, count in zip(unique_classes, counts)}\n",
    "print(class_percentages)\n"
   ]
  },
  {
   "cell_type": "code",
   "execution_count": 22,
   "metadata": {
    "scrolled": true
   },
   "outputs": [],
   "source": [
    "# mixup_data"
   ]
  },
  {
   "cell_type": "code",
   "execution_count": 23,
   "metadata": {},
   "outputs": [
    {
     "name": "stdout",
     "output_type": "stream",
     "text": [
      "0 (2404, 2, 3000)\n",
      "1 (794, 2, 3000)\n",
      "2 (3598, 2, 3000)\n",
      "3 (525, 2, 3000)\n",
      "4 (306, 2, 3000)\n",
      "5 (1427, 2, 3000)\n"
     ]
    }
   ],
   "source": [
    "tmp = np.array(target_data)\n",
    "supervised_mixup_data = {}\n",
    "for c in np.unique(target_labels):\n",
    "    supervised_mixup_data[c] = tmp[target_labels == c]\n",
    "    print(c, np.shape(supervised_mixup_data[c]))\n",
    "\n",
    "del tmp"
   ]
  },
  {
   "cell_type": "code",
   "execution_count": 24,
   "metadata": {
    "colab": {
     "base_uri": "https://localhost:8080/",
     "height": 1000
    },
    "id": "oY5ZcUnXF6W_",
    "outputId": "43c6399f-f198-4520-a92c-2eb57bd6d531",
    "scrolled": true
   },
   "outputs": [],
   "source": [
    "# args_array = []\n",
    "# args = base_args(\"eeg-classifier_seed-42\")\n",
    "# seed_everything(args.seed)\n",
    "# model = EEGClassifier()\n",
    "# supervised_run(args, model, source_data, source_labels, target_data, target_labels, test_data, mixup_data=test_data, supervised_mixup_data=supervised_mixup_data)\n",
    "# args_array.append(args)"
   ]
  },
  {
   "cell_type": "code",
   "execution_count": 25,
   "metadata": {},
   "outputs": [],
   "source": [
    "import os\n",
    "import time\n",
    "\n",
    "def run_and_save_model(args, model, source_data, source_labels, target_data, target_labels, test_data, mixup_data=None, supervised_mixup_data=None):\n",
    "    # Create a folder to save the model and training details\n",
    "    model_dir = os.path.join(OUTPUT_FOLDER, \"models\")\n",
    "    os.makedirs(model_dir, exist_ok=True)\n",
    "\n",
    "    # Track start time for training\n",
    "    start_time = time.time()\n",
    "\n",
    "    # Call the existing supervised_run function (no modifications)\n",
    "    supervised_run(args, model, source_data, source_labels, target_data, target_labels, test_data, mixup_data=mixup_data, supervised_mixup_data=supervised_mixup_data)\n",
    "\n",
    "    # Calculate and save training time\n",
    "    end_time = time.time()\n",
    "    train_time = end_time - start_time\n",
    "    train_time_str = time.strftime(\"%Hh %Mm %Ss\", time.gmtime(train_time))\n",
    "    print(f\"Training completed in: {train_time_str}\")\n",
    "\n",
    "    # Save the training time to a file\n",
    "    with open(os.path.join(model_dir, f\"{args.get_model_name()}_training_time.txt\"), \"w\") as f:\n",
    "        f.write(f\"Training time: {train_time_str}\\n\")\n",
    "\n",
    "    # Save the trained model\n",
    "    torch.save(model.state_dict(), os.path.join(model_dir, f\"{args.get_model_name()}_final_model.pt\"))\n",
    "\n",
    "    # Track start time for testing/validation\n",
    "    start_test_time = time.time()\n",
    "\n",
    "    # Validate and save predictions (already done in supervised_run)\n",
    "    # You can modify supervised_run to return the accuracies if not already done\n",
    "\n",
    "    # Capture validation and test accuracy\n",
    "    valid_score, test_score = validate_and_test(args, model, target_data, target_labels, test_data)\n",
    "\n",
    "    # Calculate and save testing time\n",
    "    end_test_time = time.time()\n",
    "    test_time = end_test_time - start_test_time\n",
    "    test_time_str = time.strftime(\"%Hh %Mm %Ss\", time.gmtime(test_time))\n",
    "    print(f\"Testing completed in: {test_time_str}\")\n",
    "\n",
    "    # Save the testing time and accuracies to the same file\n",
    "    with open(os.path.join(model_dir, f\"{args.get_model_name()}_training_time.txt\"), \"a\") as f:\n",
    "        f.write(f\"Testing time: {test_time_str}\\n\")\n",
    "        f.write(f\"Validation Accuracy: {valid_score:.2f}\\n\")\n",
    "        f.write(f\"Test Accuracy: {test_score:.2f}\\n\")\n",
    "\n",
    "    # Print accuracies explicitly\n",
    "    print(f\"Validation Accuracy: {valid_score:.2f}\")\n",
    "    print(f\"Test Accuracy: {test_score:.2f}\")\n",
    "\n",
    "def calculate_test_accuracy(predictions, true_labels):\n",
    "    \"\"\"\n",
    "    Calculate accuracy by comparing predictions to the true labels.\n",
    "    Arguments:\n",
    "    - predictions: Model predictions (e.g., class probabilities or logits)\n",
    "    - true_labels: Actual class labels\n",
    "    \n",
    "    Returns:\n",
    "    - accuracy: Calculated accuracy as a percentage\n",
    "    \"\"\"\n",
    "    # Assuming predictions are in the form of logits or probabilities\n",
    "    predicted_classes = torch.argmax(predictions, dim=1)\n",
    "    correct_predictions = (predicted_classes == true_labels).sum().item()\n",
    "    accuracy = correct_predictions / len(true_labels) * 100\n",
    "    return accuracy\n",
    "\n",
    "\n",
    "def validate_and_test(args, model, target_data, target_labels, test_data):\n",
    "    \"\"\"\n",
    "    Function to handle validation and test, returning their accuracies.\n",
    "    \"\"\"\n",
    "    # Validate\n",
    "    _, _, valid_score, _ = validate_model(args, model, target_data, target_labels, \"Target\")\n",
    "\n",
    "    # Test (Using predict_and_save if it also returns test accuracy)\n",
    "    test_output = get_prediction(args, model, test_data)\n",
    "    test_accuracy = calculate_test_accuracy(test_output)  # Define a function to calculate test accuracy\n",
    "\n",
    "    return valid_score, test_accuracy\n"
   ]
  },
  {
   "cell_type": "code",
   "execution_count": 26,
   "metadata": {},
   "outputs": [
    {
     "name": "stdout",
     "output_type": "stream",
     "text": [
      "Train data shape: (72436, 2, 3000)\n",
      "Train labels shape: (72436,)\n",
      "Validate data shape: (9054, 2, 3000)\n",
      "Validate labels shape: (9054,)\n",
      "Test data shape: (9055, 2, 3000)\n",
      "Test labels shape: (9055,)\n",
      "Total data size (number of samples): 90545\n"
     ]
    }
   ],
   "source": [
    "# Print the shape of each\n",
    "print(\"Train data shape:\", source_data.shape)\n",
    "print(\"Train labels shape:\", source_labels.shape)\n",
    "print(\"Validate data shape:\", target_data.shape)\n",
    "print(\"Validate labels shape:\", target_labels.shape)\n",
    "print(\"Test data shape:\", test_data.shape)\n",
    "print(\"Test labels shape:\", test_labels.shape)\n",
    "\n",
    "# Calculate and print total data size (total number of samples)\n",
    "total_data_size = source_labels.shape[0] + target_data.shape[0] + test_data.shape[0]\n",
    "print(\"Total data size (number of samples):\", total_data_size)\n",
    "\n",
    "\n",
    "# extended_train_data = source_data + target_data\n",
    "# extended_train_labels = source_labels + target_labels\n",
    "# print(\"extended_train_data shape:\", extended_train_data.shape)\n",
    "\n",
    "# print(\"extended_train_labels shape:\", extended_train_labels.shape)\n"
   ]
  },
  {
   "cell_type": "code",
   "execution_count": 27,
   "metadata": {},
   "outputs": [
    {
     "name": "stdout",
     "output_type": "stream",
     "text": [
      "{\n",
      "    \"alpha\": 0.01,\n",
      "    \"batch_size\": 120,\n",
      "    \"device\": \"cuda\",\n",
      "    \"epochs\": 5,\n",
      "    \"lr\": 0.001,\n",
      "    \"model_name\": \"eeg-classifier_seed-42\",\n",
      "    \"num_workers\": 2,\n",
      "    \"phase\": \"base\",\n",
      "    \"seed\": 42\n",
      "}\n"
     ]
    },
    {
     "name": "stderr",
     "output_type": "stream",
     "text": [
      "  0%|                                                   | 0/603 [00:00<?, ?it/s]/home/deepak/miniconda3/lib/python3.12/site-packages/torch/nn/modules/conv.py:304: UserWarning: Using padding='same' with even kernel lengths and odd dilation may require a zero-padded copy of the input be created (Triggered internally at ../aten/src/ATen/native/Convolution.cpp:1031.)\n",
      "  return F.conv1d(input, weight, bias, self.stride,\n",
      "Epoch 1/5 - Train loss: 0.1155, score: 0.5370: 100%|█| 603/603 [01:32<00:00,  6.\n",
      "\t  - Target loss: 0.0545, score: 0.7514: 100%|██| 76/76 [00:02<00:00, 34.39it/s]\n",
      "Epoch 2/5 - Train loss: 0.0498, score: 0.7668: 100%|█| 603/603 [01:33<00:00,  6.\n",
      "\t  - Target loss: 0.0451, score: 0.7936: 100%|██| 76/76 [00:01<00:00, 42.55it/s]\n",
      "Epoch 3/5 - Train loss: 0.0451, score: 0.7888: 100%|█| 603/603 [01:37<00:00,  6.\n",
      "\t  - Target loss: 0.0423, score: 0.8110: 100%|██| 76/76 [00:02<00:00, 30.42it/s]\n",
      "Epoch 4/5 - Train loss: 0.0435, score: 0.7998: 100%|█| 603/603 [01:39<00:00,  6.\n",
      "\t  - Target loss: 0.0415, score: 0.8131: 100%|██| 76/76 [00:02<00:00, 29.89it/s]\n",
      "Epoch 5/5 - Train loss: 0.0424, score: 0.8052: 100%|█| 603/603 [01:38<00:00,  6.\n",
      "\t  - Target loss: 0.0412, score: 0.8181: 100%|██| 76/76 [00:02<00:00, 35.41it/s]\n",
      "/tmp/ipykernel_423619/468855567.py:18: FutureWarning: You are using `torch.load` with `weights_only=False` (the current default value), which uses the default pickle module implicitly. It is possible to construct malicious pickle data which will execute arbitrary code during unpickling (See https://github.com/pytorch/pytorch/blob/main/SECURITY.md#untrusted-models for more details). In a future release, the default value for `weights_only` will be flipped to `True`. This limits the functions that could be executed during unpickling. Arbitrary objects will no longer be allowed to be loaded via this mode unless they are explicitly allowlisted by the user via `torch.serialization.add_safe_globals`. We recommend you start setting `weights_only=True` for any use case where you don't have full control of the loaded file. Please open an issue on GitHub for any issues related to this experimental feature.\n",
      "  model.load_state_dict(torch.load(f\"{OUTPUT_FOLDER}best_model_{args.get_model_name()}.pt\"))\n"
     ]
    },
    {
     "name": "stdout",
     "output_type": "stream",
     "text": [
      "\n",
      "###### PHASE 1 FINISHED ##########\n"
     ]
    },
    {
     "name": "stderr",
     "output_type": "stream",
     "text": [
      "\t  - Target loss: 0.0412, score: 0.8181: 100%|██| 76/76 [00:02<00:00, 34.71it/s]\n"
     ]
    },
    {
     "data": {
      "image/png": "[encoded data removed]",
      "text/plain": [
       "<Figure size 640x480 with 2 Axes>"
      ]
     },
     "metadata": {},
     "output_type": "display_data"
    },
    {
     "name": "stderr",
     "output_type": "stream",
     "text": [
      "/tmp/ipykernel_423619/3885554587.py:68: FutureWarning: You are using `torch.load` with `weights_only=False` (the current default value), which uses the default pickle module implicitly. It is possible to construct malicious pickle data which will execute arbitrary code during unpickling (See https://github.com/pytorch/pytorch/blob/main/SECURITY.md#untrusted-models for more details). In a future release, the default value for `weights_only` will be flipped to `True`. This limits the functions that could be executed during unpickling. Arbitrary objects will no longer be allowed to be loaded via this mode unless they are explicitly allowlisted by the user via `torch.serialization.add_safe_globals`. We recommend you start setting `weights_only=True` for any use case where you don't have full control of the loaded file. Please open an issue on GitHub for any issues related to this experimental feature.\n",
      "  model.load_state_dict(torch.load(f\"{OUTPUT_FOLDER}best_model_{args.get_model_name()}.pt\"))\n",
      "100%|███████████████████████████████████████████| 76/76 [00:01<00:00, 39.80it/s]\n",
      "100%|███████████████████████████████████████████| 76/76 [00:02<00:00, 36.08it/s]\n",
      "Epoch 1/10 - Train loss: 0.0382, score: 0.8261: 100%|█| 603/603 [01:36<00:00,  6\n",
      "\t  - Target loss: 0.0421, score: 0.8098: 100%|██| 76/76 [00:02<00:00, 37.90it/s]\n",
      "Epoch 2/10 - Train loss: 0.0379, score: 0.8267: 100%|█| 603/603 [01:36<00:00,  6\n",
      "\t  - Target loss: 0.0421, score: 0.8097: 100%|██| 76/76 [00:01<00:00, 42.47it/s]\n",
      "Epoch 3/10 - Train loss: 0.0375, score: 0.8265: 100%|█| 603/603 [01:33<00:00,  6\n",
      "\t  - Target loss: 0.0431, score: 0.8015: 100%|██| 76/76 [00:02<00:00, 35.24it/s]\n",
      "Epoch 4/10 - Train loss: 0.0374, score: 0.8281: 100%|█| 603/603 [01:35<00:00,  6\n",
      "\t  - Target loss: 0.0415, score: 0.8146: 100%|██| 76/76 [00:02<00:00, 33.78it/s]\n",
      "Epoch 5/10 - Train loss: 0.0372, score: 0.8286: 100%|█| 603/603 [01:36<00:00,  6\n",
      "\t  - Target loss: 0.0420, score: 0.8077: 100%|██| 76/76 [00:02<00:00, 34.29it/s]\n",
      "Epoch 6/10 - Train loss: 0.0369, score: 0.8313: 100%|█| 603/603 [01:33<00:00,  6\n",
      "\t  - Target loss: 0.0416, score: 0.8122: 100%|██| 76/76 [00:01<00:00, 41.59it/s]\n",
      "Epoch 7/10 - Train loss: 0.0369, score: 0.8310: 100%|█| 603/603 [01:36<00:00,  6\n",
      "\t  - Target loss: 0.0420, score: 0.8118: 100%|██| 76/76 [00:01<00:00, 42.35it/s]\n",
      "Epoch 8/10 - Train loss: 0.0369, score: 0.8295: 100%|█| 603/603 [01:32<00:00,  6\n",
      "\t  - Target loss: 0.0418, score: 0.8073: 100%|██| 76/76 [00:01<00:00, 44.12it/s]\n",
      "Epoch 9/10 - Train loss: 0.0369, score: 0.8308: 100%|█| 603/603 [01:26<00:00,  6\n",
      "\t  - Target loss: 0.0422, score: 0.8087: 100%|██| 76/76 [00:02<00:00, 33.05it/s]\n",
      "Epoch 10/10 - Train loss: 0.0368, score: 0.8307: 100%|█| 603/603 [01:42<00:00,  \n",
      "\t  - Target loss: 0.0419, score: 0.8102: 100%|██| 76/76 [00:02<00:00, 30.21it/s]\n",
      "/tmp/ipykernel_423619/468855567.py:38: FutureWarning: You are using `torch.load` with `weights_only=False` (the current default value), which uses the default pickle module implicitly. It is possible to construct malicious pickle data which will execute arbitrary code during unpickling (See https://github.com/pytorch/pytorch/blob/main/SECURITY.md#untrusted-models for more details). In a future release, the default value for `weights_only` will be flipped to `True`. This limits the functions that could be executed during unpickling. Arbitrary objects will no longer be allowed to be loaded via this mode unless they are explicitly allowlisted by the user via `torch.serialization.add_safe_globals`. We recommend you start setting `weights_only=True` for any use case where you don't have full control of the loaded file. Please open an issue on GitHub for any issues related to this experimental feature.\n",
      "  model.load_state_dict(torch.load(f\"{OUTPUT_FOLDER}best_model_{args.get_model_name()}.pt\"))\n"
     ]
    },
    {
     "name": "stdout",
     "output_type": "stream",
     "text": [
      "\n",
      "###### PHASE 2 FINISHED ########OUTPUT_FOLDER##\n"
     ]
    },
    {
     "name": "stderr",
     "output_type": "stream",
     "text": [
      "\t  - Target loss: 0.0419, score: 0.8102: 100%|██| 76/76 [00:02<00:00, 32.33it/s]\n"
     ]
    },
    {
     "data": {
      "image/png": "[encoded data removed]",
      "text/plain": [
       "<Figure size 640x480 with 2 Axes>"
      ]
     },
     "metadata": {},
     "output_type": "display_data"
    },
    {
     "name": "stderr",
     "output_type": "stream",
     "text": [
      "/tmp/ipykernel_423619/3885554587.py:68: FutureWarning: You are using `torch.load` with `weights_only=False` (the current default value), which uses the default pickle module implicitly. It is possible to construct malicious pickle data which will execute arbitrary code during unpickling (See https://github.com/pytorch/pytorch/blob/main/SECURITY.md#untrusted-models for more details). In a future release, the default value for `weights_only` will be flipped to `True`. This limits the functions that could be executed during unpickling. Arbitrary objects will no longer be allowed to be loaded via this mode unless they are explicitly allowlisted by the user via `torch.serialization.add_safe_globals`. We recommend you start setting `weights_only=True` for any use case where you don't have full control of the loaded file. Please open an issue on GitHub for any issues related to this experimental feature.\n",
      "  model.load_state_dict(torch.load(f\"{OUTPUT_FOLDER}best_model_{args.get_model_name()}.pt\"))\n",
      "100%|███████████████████████████████████████████| 76/76 [00:01<00:00, 39.99it/s]\n",
      "100%|███████████████████████████████████████████| 76/76 [00:01<00:00, 41.31it/s]\n",
      "Epoch 1/20 - Train loss: 0.0418, score: 0.8072: 100%|█| 339/339 [00:44<00:00,  7\n",
      "\t  - Target loss: 0.0416, score: 0.8079: 100%|██| 76/76 [00:01<00:00, 42.49it/s]\n",
      "Epoch 2/20 - Train loss: 0.0432, score: 0.7977: 100%|█| 339/339 [00:49<00:00,  6\n",
      "\t  - Target loss: 0.0424, score: 0.8068: 100%|██| 76/76 [00:02<00:00, 34.51it/s]\n",
      "Epoch 3/20 - Train loss: 0.0426, score: 0.8047: 100%|█| 339/339 [00:50<00:00,  6\n",
      "\t  - Target loss: 0.0398, score: 0.8232: 100%|██| 76/76 [00:02<00:00, 32.17it/s]\n",
      "Epoch 4/20 - Train loss: 0.0418, score: 0.8060: 100%|█| 339/339 [00:50<00:00,  6\n",
      "\t  - Target loss: 0.0392, score: 0.8221: 100%|██| 76/76 [00:02<00:00, 36.49it/s]\n",
      "Epoch 5/20 - Train loss: 0.0418, score: 0.8068: 100%|█| 339/339 [00:48<00:00,  6\n",
      "\t  - Target loss: 0.0394, score: 0.8206: 100%|██| 76/76 [00:02<00:00, 34.67it/s]\n",
      "Epoch 6/20 - Train loss: 0.0411, score: 0.8105: 100%|█| 339/339 [00:50<00:00,  6\n",
      "\t  - Target loss: 0.0391, score: 0.8156: 100%|██| 76/76 [00:02<00:00, 33.49it/s]\n",
      "Epoch 7/20 - Train loss: 0.0408, score: 0.8079: 100%|█| 339/339 [00:50<00:00,  6\n",
      "\t  - Target loss: 0.0377, score: 0.8308: 100%|██| 76/76 [00:02<00:00, 36.49it/s]\n",
      "Epoch 8/20 - Train loss: 0.0400, score: 0.8155: 100%|█| 339/339 [00:51<00:00,  6\n",
      "\t  - Target loss: 0.0377, score: 0.8249: 100%|██| 76/76 [00:01<00:00, 40.70it/s]\n",
      "Epoch 9/20 - Train loss: 0.0397, score: 0.8189: 100%|█| 339/339 [00:50<00:00,  6\n",
      "\t  - Target loss: 0.0362, score: 0.8350: 100%|██| 76/76 [00:02<00:00, 30.68it/s]\n",
      "Epoch 10/20 - Train loss: 0.0388, score: 0.8206: 100%|█| 339/339 [00:49<00:00,  \n",
      "\t  - Target loss: 0.0359, score: 0.8348: 100%|██| 76/76 [00:02<00:00, 37.27it/s]\n",
      "Epoch 11/20 - Train loss: 0.0383, score: 0.8225: 100%|█| 339/339 [00:50<00:00,  \n",
      "\t  - Target loss: 0.0360, score: 0.8306: 100%|██| 76/76 [00:02<00:00, 36.72it/s]\n",
      "Epoch 12/20 - Train loss: 0.0382, score: 0.8227: 100%|█| 339/339 [00:50<00:00,  \n",
      "\t  - Target loss: 0.0345, score: 0.8411: 100%|██| 76/76 [00:01<00:00, 38.72it/s]\n",
      "Epoch 13/20 - Train loss: 0.0378, score: 0.8229: 100%|█| 339/339 [00:49<00:00,  \n",
      "\t  - Target loss: 0.0341, score: 0.8415: 100%|██| 76/76 [00:01<00:00, 38.96it/s]\n",
      "Epoch 14/20 - Train loss: 0.0373, score: 0.8258: 100%|█| 339/339 [00:51<00:00,  \n",
      "\t  - Target loss: 0.0333, score: 0.8463: 100%|██| 76/76 [00:02<00:00, 36.06it/s]\n",
      "Epoch 15/20 - Train loss: 0.0370, score: 0.8258: 100%|█| 339/339 [00:51<00:00,  \n",
      "\t  - Target loss: 0.0332, score: 0.8477: 100%|██| 76/76 [00:01<00:00, 45.46it/s]\n",
      "Epoch 16/20 - Train loss: 0.0363, score: 0.8307: 100%|█| 339/339 [00:50<00:00,  \n",
      "\t  - Target loss: 0.0326, score: 0.8497: 100%|██| 76/76 [00:01<00:00, 39.20it/s]\n",
      "Epoch 17/20 - Train loss: 0.0361, score: 0.8302: 100%|█| 339/339 [00:47<00:00,  \n",
      "\t  - Target loss: 0.0328, score: 0.8476: 100%|██| 76/76 [00:01<00:00, 38.67it/s]\n",
      "Epoch 18/20 - Train loss: 0.0360, score: 0.8319: 100%|█| 339/339 [00:51<00:00,  \n",
      "\t  - Target loss: 0.0324, score: 0.8508: 100%|██| 76/76 [00:02<00:00, 36.73it/s]\n",
      "Epoch 19/20 - Train loss: 0.0361, score: 0.8327: 100%|█| 339/339 [00:48<00:00,  \n",
      "\t  - Target loss: 0.0323, score: 0.8496: 100%|██| 76/76 [00:02<00:00, 37.07it/s]\n",
      "Epoch 20/20 - Train loss: 0.0361, score: 0.8332: 100%|█| 339/339 [00:48<00:00,  \n",
      "\t  - Target loss: 0.0323, score: 0.8523: 100%|██| 76/76 [00:01<00:00, 49.06it/s]\n",
      "/tmp/ipykernel_423619/468855567.py:66: FutureWarning: You are using `torch.load` with `weights_only=False` (the current default value), which uses the default pickle module implicitly. It is possible to construct malicious pickle data which will execute arbitrary code during unpickling (See https://github.com/pytorch/pytorch/blob/main/SECURITY.md#untrusted-models for more details). In a future release, the default value for `weights_only` will be flipped to `True`. This limits the functions that could be executed during unpickling. Arbitrary objects will no longer be allowed to be loaded via this mode unless they are explicitly allowlisted by the user via `torch.serialization.add_safe_globals`. We recommend you start setting `weights_only=True` for any use case where you don't have full control of the loaded file. Please open an issue on GitHub for any issues related to this experimental feature.\n",
      "  model.load_state_dict(torch.load(f\"{OUTPUT_FOLDER}best_model_{args.get_model_name()}.pt\"))\n"
     ]
    },
    {
     "name": "stdout",
     "output_type": "stream",
     "text": [
      "\n",
      "###### PHASE 3 FINISHED ##########\n"
     ]
    },
    {
     "name": "stderr",
     "output_type": "stream",
     "text": [
      "\t  - Target loss: 0.0323, score: 0.8523: 100%|██| 76/76 [00:01<00:00, 46.26it/s]\n"
     ]
    },
    {
     "data": {
      "image/png": "[encoded data removed]",
      "text/plain": [
       "<Figure size 640x480 with 2 Axes>"
      ]
     },
     "metadata": {},
     "output_type": "display_data"
    },
    {
     "name": "stderr",
     "output_type": "stream",
     "text": [
      "/tmp/ipykernel_423619/3885554587.py:68: FutureWarning: You are using `torch.load` with `weights_only=False` (the current default value), which uses the default pickle module implicitly. It is possible to construct malicious pickle data which will execute arbitrary code during unpickling (See https://github.com/pytorch/pytorch/blob/main/SECURITY.md#untrusted-models for more details). In a future release, the default value for `weights_only` will be flipped to `True`. This limits the functions that could be executed during unpickling. Arbitrary objects will no longer be allowed to be loaded via this mode unless they are explicitly allowlisted by the user via `torch.serialization.add_safe_globals`. We recommend you start setting `weights_only=True` for any use case where you don't have full control of the loaded file. Please open an issue on GitHub for any issues related to this experimental feature.\n",
      "  model.load_state_dict(torch.load(f\"{OUTPUT_FOLDER}best_model_{args.get_model_name()}.pt\"))\n",
      "100%|███████████████████████████████████████████| 76/76 [00:01<00:00, 43.26it/s]\n",
      "100%|███████████████████████████████████████████| 76/76 [00:01<00:00, 38.98it/s]\n",
      "/tmp/ipykernel_423619/3885554587.py:111: UserWarning: FigureCanvasAgg is non-interactive, and thus cannot be shown\n",
      "  fig.show()\n"
     ]
    },
    {
     "name": "stdout",
     "output_type": "stream",
     "text": [
      "Training completed in: 00h 42m 01s\n"
     ]
    },
    {
     "name": "stderr",
     "output_type": "stream",
     "text": [
      "\t  - Target loss: 0.0323, score: 0.8523: 100%|██| 76/76 [00:02<00:00, 33.50it/s]\n"
     ]
    },
    {
     "data": {
      "image/png": "[encoded data removed]",
      "text/plain": [
       "<Figure size 2200x600 with 2 Axes>"
      ]
     },
     "metadata": {},
     "output_type": "display_data"
    },
    {
     "data": {
      "image/png": "[encoded data removed]",
      "text/plain": [
       "<Figure size 640x480 with 2 Axes>"
      ]
     },
     "metadata": {},
     "output_type": "display_data"
    },
    {
     "name": "stderr",
     "output_type": "stream",
     "text": [
      "/tmp/ipykernel_423619/3885554587.py:68: FutureWarning: You are using `torch.load` with `weights_only=False` (the current default value), which uses the default pickle module implicitly. It is possible to construct malicious pickle data which will execute arbitrary code during unpickling (See https://github.com/pytorch/pytorch/blob/main/SECURITY.md#untrusted-models for more details). In a future release, the default value for `weights_only` will be flipped to `True`. This limits the functions that could be executed during unpickling. Arbitrary objects will no longer be allowed to be loaded via this mode unless they are explicitly allowlisted by the user via `torch.serialization.add_safe_globals`. We recommend you start setting `weights_only=True` for any use case where you don't have full control of the loaded file. Please open an issue on GitHub for any issues related to this experimental feature.\n",
      "  model.load_state_dict(torch.load(f\"{OUTPUT_FOLDER}best_model_{args.get_model_name()}.pt\"))\n",
      "100%|███████████████████████████████████████████| 76/76 [00:01<00:00, 39.43it/s]\n"
     ]
    },
    {
     "ename": "TypeError",
     "evalue": "calculate_test_accuracy() missing 1 required positional argument: 'true_labels'",
     "output_type": "error",
     "traceback": [
      "\u001b[0;31m---------------------------------------------------------------------------\u001b[0m",
      "\u001b[0;31mTypeError\u001b[0m                                 Traceback (most recent call last)",
      "Cell \u001b[0;32mIn[27], line 7\u001b[0m\n\u001b[1;32m      4\u001b[0m model \u001b[38;5;241m=\u001b[39m EEGClassifier()\n\u001b[1;32m      6\u001b[0m \u001b[38;5;66;03m# Call the new function that tracks time and saves the model\u001b[39;00m\n\u001b[0;32m----> 7\u001b[0m \u001b[43mrun_and_save_model\u001b[49m\u001b[43m(\u001b[49m\u001b[43margs\u001b[49m\u001b[43m,\u001b[49m\u001b[43m \u001b[49m\u001b[43mmodel\u001b[49m\u001b[43m,\u001b[49m\u001b[43m \u001b[49m\u001b[43msource_data\u001b[49m\u001b[43m,\u001b[49m\u001b[43m \u001b[49m\u001b[43msource_labels\u001b[49m\u001b[43m,\u001b[49m\u001b[43m \u001b[49m\u001b[43mtarget_data\u001b[49m\u001b[43m,\u001b[49m\u001b[43m \u001b[49m\u001b[43mtarget_labels\u001b[49m\u001b[43m,\u001b[49m\u001b[43m \u001b[49m\u001b[43mtest_data\u001b[49m\u001b[43m,\u001b[49m\u001b[43m \u001b[49m\u001b[43mmixup_data\u001b[49m\u001b[38;5;241;43m=\u001b[39;49m\u001b[38;5;28;43;01mNone\u001b[39;49;00m\u001b[43m,\u001b[49m\u001b[43m \u001b[49m\u001b[43msupervised_mixup_data\u001b[49m\u001b[38;5;241;43m=\u001b[39;49m\u001b[43msupervised_mixup_data\u001b[49m\u001b[43m)\u001b[49m\n\u001b[1;32m      9\u001b[0m args_array\u001b[38;5;241m.\u001b[39mappend(args)\n",
      "Cell \u001b[0;32mIn[25], line 35\u001b[0m, in \u001b[0;36mrun_and_save_model\u001b[0;34m(args, model, source_data, source_labels, target_data, target_labels, test_data, mixup_data, supervised_mixup_data)\u001b[0m\n\u001b[1;32m     29\u001b[0m start_test_time \u001b[38;5;241m=\u001b[39m time\u001b[38;5;241m.\u001b[39mtime()\n\u001b[1;32m     31\u001b[0m \u001b[38;5;66;03m# Validate and save predictions (already done in supervised_run)\u001b[39;00m\n\u001b[1;32m     32\u001b[0m \u001b[38;5;66;03m# You can modify supervised_run to return the accuracies if not already done\u001b[39;00m\n\u001b[1;32m     33\u001b[0m \n\u001b[1;32m     34\u001b[0m \u001b[38;5;66;03m# Capture validation and test accuracy\u001b[39;00m\n\u001b[0;32m---> 35\u001b[0m valid_score, test_score \u001b[38;5;241m=\u001b[39m \u001b[43mvalidate_and_test\u001b[49m\u001b[43m(\u001b[49m\u001b[43margs\u001b[49m\u001b[43m,\u001b[49m\u001b[43m \u001b[49m\u001b[43mmodel\u001b[49m\u001b[43m,\u001b[49m\u001b[43m \u001b[49m\u001b[43mtarget_data\u001b[49m\u001b[43m,\u001b[49m\u001b[43m \u001b[49m\u001b[43mtarget_labels\u001b[49m\u001b[43m,\u001b[49m\u001b[43m \u001b[49m\u001b[43mtest_data\u001b[49m\u001b[43m)\u001b[49m\n\u001b[1;32m     37\u001b[0m \u001b[38;5;66;03m# Calculate and save testing time\u001b[39;00m\n\u001b[1;32m     38\u001b[0m end_test_time \u001b[38;5;241m=\u001b[39m time\u001b[38;5;241m.\u001b[39mtime()\n",
      "Cell \u001b[0;32mIn[25], line 79\u001b[0m, in \u001b[0;36mvalidate_and_test\u001b[0;34m(args, model, target_data, target_labels, test_data)\u001b[0m\n\u001b[1;32m     77\u001b[0m \u001b[38;5;66;03m# Test (Using predict_and_save if it also returns test accuracy)\u001b[39;00m\n\u001b[1;32m     78\u001b[0m test_output \u001b[38;5;241m=\u001b[39m get_prediction(args, model, test_data)\n\u001b[0;32m---> 79\u001b[0m test_accuracy \u001b[38;5;241m=\u001b[39m \u001b[43mcalculate_test_accuracy\u001b[49m\u001b[43m(\u001b[49m\u001b[43mtest_output\u001b[49m\u001b[43m)\u001b[49m  \u001b[38;5;66;03m# Define a function to calculate test accuracy\u001b[39;00m\n\u001b[1;32m     81\u001b[0m \u001b[38;5;28;01mreturn\u001b[39;00m valid_score, test_accuracy\n",
      "\u001b[0;31mTypeError\u001b[0m: calculate_test_accuracy() missing 1 required positional argument: 'true_labels'"
     ]
    }
   ],
   "source": [
    "args_array = []\n",
    "args = base_args(\"eeg-classifier_seed-42\")\n",
    "seed_everything(args.seed)\n",
    "model = EEGClassifier()\n",
    "\n",
    "# Call the new function that tracks time and saves the model\n",
    "run_and_save_model(args, model, source_data, source_labels, target_data, target_labels, test_data, mixup_data=None, supervised_mixup_data=supervised_mixup_data)\n",
    "\n",
    "args_array.append(args)\n"
   ]
  },
  {
   "cell_type": "code",
   "execution_count": null,
   "metadata": {},
   "outputs": [],
   "source": []
  },
  {
   "cell_type": "code",
   "execution_count": null,
   "metadata": {},
   "outputs": [],
   "source": []
  }
 ],
 "metadata": {
  "accelerator": "GPU",
  "colab": {
   "collapsed_sections": [],
   "name": "beetl-sleep-mixup_vat_v3.ipynb",
   "provenance": [],
   "toc_visible": true
  },
  "kaggle": {
   "accelerator": "gpu",
   "dataSources": [
    {
     "datasetId": 5250581,
     "sourceId": 8744495,
     "sourceType": "datasetVersion"
    }
   ],
   "dockerImageVersionId": 30733,
   "isGpuEnabled": true,
   "isInternetEnabled": true,
   "language": "python",
   "sourceType": "notebook"
  },
  "kernelspec": {
   "display_name": "Python 3 (ipykernel)",
   "language": "python",
   "name": "python3"
  },
  "language_info": {
   "codemirror_mode": {
    "name": "ipython",
    "version": 3
   },
   "file_extension": ".py",
   "mimetype": "text/x-python",
   "name": "python",
   "nbconvert_exporter": "python",
   "pygments_lexer": "ipython3",
   "version": "3.12.2"
  }
 },
 "nbformat": 4,
 "nbformat_minor": 4
}
