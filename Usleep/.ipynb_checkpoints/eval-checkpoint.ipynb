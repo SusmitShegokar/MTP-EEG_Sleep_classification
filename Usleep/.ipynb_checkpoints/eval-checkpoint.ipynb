{
 "cells": [
  {
   "cell_type": "code",
   "execution_count": 1,
   "id": "ea93313d-ad84-472f-b854-7db0028e2a15",
   "metadata": {},
   "outputs": [],
   "source": [
    "import numpy as np\n",
    "import torch\n",
    "from sklearn.metrics import (\n",
    "    precision_score, recall_score, f1_score, cohen_kappa_score, roc_auc_score, classification_report, confusion_matrix\n",
    ")\n",
    "import seaborn as sns\n",
    "import matplotlib.pyplot as plt\n",
    "import time\n"
   ]
  },
  {
   "cell_type": "code",
   "execution_count": 2,
   "id": "9a4f1366-c07b-45c5-9b02-a267b4239277",
   "metadata": {},
   "outputs": [],
   "source": [
    "# Function to load the saved model\n",
    "def load_model(model_path, model_class, device='cuda'):\n",
    "    model = model_class()  # Initialize the model architecture (EEGClassifier in your case)\n",
    "    model.load_state_dict(torch.load(model_path, map_location=device))\n",
    "    model.to(device)\n",
    "    model.eval()\n",
    "    return model\n",
    "\n",
    "# Function to load test data from .npy files\n",
    "def load_test_data():\n",
    "    test_data = np.load('data/test/data.npy')\n",
    "    test_labels = np.load('data/test/labels.npy')\n",
    "    return test_data, test_labels\n"
   ]
  },
  {
   "cell_type": "code",
   "execution_count": 3,
   "id": "bae32867-c773-4699-ae94-d628105c8a0d",
   "metadata": {},
   "outputs": [],
   "source": [
    "# Batched inference to reduce memory usage\n",
    "def batched_inference(model, test_data, batch_size=64, device='cuda'):\n",
    "    outputs = []\n",
    "    model.eval()\n",
    "    \n",
    "    for i in range(0, len(test_data), batch_size):\n",
    "        batch_data = torch.tensor(test_data[i:i+batch_size]).float().to(device)\n",
    "        with torch.no_grad():\n",
    "            batch_output = model(batch_data).cpu().numpy()  # Move to CPU to free GPU memory\n",
    "        outputs.append(batch_output)\n",
    "    \n",
    "    outputs = np.vstack(outputs)  # Combine batches into one array\n",
    "    return outputs"
   ]
  },
  {
   "cell_type": "code",
   "execution_count": 5,
   "id": "d2f475e3-8438-406f-9893-773c71bb57bf",
   "metadata": {},
   "outputs": [],
   "source": [
    "def evaluate_model_with_timing(model, test_data, test_labels, num_classes=6, batch_size=120, device='cuda'):\n",
    "    # Start time for inference\n",
    "    start_time = time.time()\n",
    "    \n",
    "    # Run batched inference\n",
    "    outputs = batched_inference(model, test_data, batch_size=batch_size, device=device)\n",
    "    \n",
    "    # End time for inference\n",
    "    end_time = time.time()\n",
    "    test_duration = end_time - start_time\n",
    "\n",
    "    # Predictions and ground truth\n",
    "    predictions = np.argmax(outputs, axis=1)\n",
    "\n",
    "    # Compute metrics\n",
    "    precision = precision_score(test_labels, predictions, average='weighted')\n",
    "    recall = recall_score(test_labels, predictions, average='weighted')\n",
    "    f1 = f1_score(test_labels, predictions, average='weighted')\n",
    "    kappa = cohen_kappa_score(test_labels, predictions)\n",
    "\n",
    "    # Calculate AUC-ROC (multi-class)\n",
    "    try:\n",
    "        auc = roc_auc_score(test_labels, outputs, multi_class='ovo', average='weighted')\n",
    "    except ValueError:\n",
    "        auc = None\n",
    "        print(\"AUC-ROC could not be calculated due to data formatting.\")\n",
    "\n",
    "    # Generate confusion matrix and classification report\n",
    "    report = classification_report(test_labels, predictions)\n",
    "    conf_matrix = confusion_matrix(test_labels, predictions)\n",
    "    \n",
    "    # Plot confusion matrix as an image\n",
    "    plt.figure(figsize=(8, 6))\n",
    "    sns.heatmap(conf_matrix, annot=True, fmt='g', cmap='Blues')\n",
    "    plt.title('Confusion Matrix')\n",
    "    plt.xlabel('Predicted')\n",
    "    plt.ylabel('Actual')\n",
    "    plt.savefig(\"confusion_matrix.png\")  # Save confusion matrix as an image\n",
    "    plt.show()\n",
    "\n",
    "    return precision, recall, f1, kappa, auc, conf_matrix, report, test_duration\n",
    "\n"
   ]
  },
  {
   "cell_type": "code",
   "execution_count": 6,
   "id": "b5d95c70-70e2-4f00-bf07-34b539c926d7",
   "metadata": {},
   "outputs": [],
   "source": [
    "from model import EEGClassifier\n",
    "model_path = \"/home/deepak/Documents/Deepak/Students/Susmit_23CS60R75/onlyYoung/mixup05/outputs/models/eeg-classifier_seed-42_mixup_finetuned_final_model.pt\"\n"
   ]
  },
  {
   "cell_type": "code",
   "execution_count": 11,
   "id": "a6b035a1-99fe-4656-9306-8ad371076b0f",
   "metadata": {},
   "outputs": [],
   "source": [
    "\n",
    "# Main function to load model, test data, and evaluate\n",
    "def main_with_timing():\n",
    "    # Load the model\n",
    "    # model_path = \"models/eeg-classifier_seed-42_mixup_finetuned_training_time.pt\"  # Path to your saved model\n",
    "    model = load_model(model_path, EEGClassifier, device='cuda')  # EEGClassifier is your model class\n",
    "\n",
    "    # Load test data\n",
    "    test_data, test_labels = load_test_data()\n",
    "\n",
    "    # Evaluate model and compute metrics with timing\n",
    "    precision, recall, f1, kappa, auc, conf_matrix, report, test_duration = evaluate_model_with_timing(model, test_data, test_labels, num_classes=6, batch_size=64, device='cuda')\n",
    "\n",
    "    # Print the metrics\n",
    "    print(f\"Precision: {precision:.4f}\")\n",
    "    print(f\"Recall: {recall:.4f}\")\n",
    "    print(f\"F1 Score: {f1:.4f}\")\n",
    "    print(f\"Kappa: {kappa:.4f}\")\n",
    "    print(f\"AUC: {auc:.4f}\" if auc else \"AUC: Not calculated\")\n",
    "    print(f\"Test Duration: {test_duration:.4f} seconds\")\n",
    "    print(f\"Confusion Matrix:\\n{conf_matrix}\")\n",
    "    print(f\"Classification Report:\\n{report}\")"
   ]
  },
  {
   "cell_type": "code",
   "execution_count": 12,
   "id": "e29ac0d6-f90e-4871-99aa-706292e5f205",
   "metadata": {},
   "outputs": [
    {
     "name": "stderr",
     "output_type": "stream",
     "text": [
      "/tmp/ipykernel_355601/3188695244.py:4: FutureWarning: You are using `torch.load` with `weights_only=False` (the current default value), which uses the default pickle module implicitly. It is possible to construct malicious pickle data which will execute arbitrary code during unpickling (See https://github.com/pytorch/pytorch/blob/main/SECURITY.md#untrusted-models for more details). In a future release, the default value for `weights_only` will be flipped to `True`. This limits the functions that could be executed during unpickling. Arbitrary objects will no longer be allowed to be loaded via this mode unless they are explicitly allowlisted by the user via `torch.serialization.add_safe_globals`. We recommend you start setting `weights_only=True` for any use case where you don't have full control of the loaded file. Please open an issue on GitHub for any issues related to this experimental feature.\n",
      "  model.load_state_dict(torch.load(model_path, map_location=device))\n"
     ]
    },
    {
     "name": "stdout",
     "output_type": "stream",
     "text": [
      "AUC-ROC could not be calculated due to data formatting.\n"
     ]
    },
    {
     "data": {
      "image/png": "[encoded data removed]",
      "text/plain": [
       "<Figure size 800x600 with 2 Axes>"
      ]
     },
     "metadata": {},
     "output_type": "display_data"
    },
    {
     "name": "stdout",
     "output_type": "stream",
     "text": [
      "Precision: 0.8433\n",
      "Recall: 0.8446\n",
      "F1 Score: 0.8438\n",
      "Kappa: 0.7883\n",
      "AUC: Not calculated\n",
      "Test Duration: 1.2491 seconds\n",
      "Confusion Matrix:\n",
      "[[2265   88   30    3    0   19]\n",
      " [  94  393  203    2    0  102]\n",
      " [  28  157 3185  118    0  111]\n",
      " [   2    2   75  380   65    0]\n",
      " [   1    0    1   69  234    0]\n",
      " [  28   94  114    1    0 1191]]\n",
      "Classification Report:\n",
      "              precision    recall  f1-score   support\n",
      "\n",
      "           0       0.94      0.94      0.94      2405\n",
      "           1       0.54      0.49      0.51       794\n",
      "           2       0.88      0.88      0.88      3599\n",
      "           3       0.66      0.73      0.69       524\n",
      "           4       0.78      0.77      0.77       305\n",
      "           5       0.84      0.83      0.84      1428\n",
      "\n",
      "    accuracy                           0.84      9055\n",
      "   macro avg       0.77      0.77      0.77      9055\n",
      "weighted avg       0.84      0.84      0.84      9055\n",
      "\n"
     ]
    }
   ],
   "source": [
    "main_with_timing()"
   ]
  },
  {
   "cell_type": "code",
   "execution_count": null,
   "id": "be5b83e0-28ea-4319-96b0-5fb683ff622b",
   "metadata": {},
   "outputs": [],
   "source": []
  }
 ],
 "metadata": {
  "kernelspec": {
   "display_name": "Python 3 (ipykernel)",
   "language": "python",
   "name": "python3"
  },
  "language_info": {
   "codemirror_mode": {
    "name": "ipython",
    "version": 3
   },
   "file_extension": ".py",
   "mimetype": "text/x-python",
   "name": "python",
   "nbconvert_exporter": "python",
   "pygments_lexer": "ipython3",
   "version": "3.12.2"
  }
 },
 "nbformat": 4,
 "nbformat_minor": 5
}
