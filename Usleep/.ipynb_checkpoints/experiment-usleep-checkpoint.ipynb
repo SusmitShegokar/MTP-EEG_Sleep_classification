{
 "cells": [
  {
   "cell_type": "code",
   "execution_count": 65,
   "metadata": {},
   "outputs": [
    {
     "name": "stdout",
     "output_type": "stream",
     "text": [
      "mkdir: cannot create directory ‘/home/deepak/Documents/Deepak/Students/Susmit_23CS60R75/onlyYoung/mixup05/outputs’: File exists\n"
     ]
    }
   ],
   "source": [
    "# !mkdir ./outputs"
   ]
  },
  {
   "cell_type": "code",
   "execution_count": 122,
   "metadata": {},
   "outputs": [],
   "source": [
    "# !pip install mne==1.4.0"
   ]
  },
  {
   "cell_type": "code",
   "execution_count": 154,
   "metadata": {},
   "outputs": [],
   "source": [
    "OUTPUT_FOLDER='/home/deepak/Documents/Deepak/Students/Susmit_23CS60R75/onlyYoung/mixup05/outputs'"
   ]
  },
  {
   "cell_type": "code",
   "execution_count": 155,
   "metadata": {
    "id": "458BBEygxACF"
   },
   "outputs": [],
   "source": [
    "import os\n",
    "import pickle\n",
    "import numpy as np\n",
    "from tqdm import tqdm\n",
    "import matplotlib.pyplot as plt"
   ]
  },
  {
   "cell_type": "code",
   "execution_count": 156,
   "metadata": {
    "id": "UN8BExC-xtNk"
   },
   "outputs": [],
   "source": [
    "DATA_FOLDER ='/home/deepak/Documents/Deepak/Students/Susmit_23CS60R75/Sleep_Data/'\n",
    "SOURCE_DATA_FOLDER = DATA_FOLDER  + \"SleepSource/\"\n",
    "LEADERBOARD_TARGET_DATA_FOLDER = DATA_FOLDER + \"LeaderboardSleep/sleep_target/\"\n",
    "LEADERBOARD_TEST_DATA_FOLDER = DATA_FOLDER + \"LeaderboardSleep/testing/\"\n",
    "FINAL_TARGET_DATA_FOLDER = DATA_FOLDER + \"finalSleep/sleep_target/\"\n",
    "FINAL_TEST_DATA_FOLDER = DATA_FOLDER + \"finalSleep/testing/\""
   ]
  },
  {
   "cell_type": "markdown",
   "metadata": {
    "id": "iTtgjHnb_C71"
   },
   "source": [
    "## data_utils"
   ]
  },
  {
   "cell_type": "code",
   "execution_count": 157,
   "metadata": {
    "id": "3VTwOdosGN3B"
   },
   "outputs": [],
   "source": [
    "import mne"
   ]
  },
  {
   "cell_type": "markdown",
   "metadata": {
    "id": "zr8X6O4Cm7Xh"
   },
   "source": [
    "## runner_utils"
   ]
  },
  {
   "cell_type": "code",
   "execution_count": 158,
   "metadata": {
    "id": "fPjpxd2vmyvU"
   },
   "outputs": [],
   "source": [
    "import os\n",
    "import torch\n",
    "import random\n",
    "import numpy as np\n",
    "\n",
    "def seed_everything(seed):\n",
    "    os.environ[\"PYTHONHASHSEED\"] = str(seed)\n",
    "    random.seed(seed)\n",
    "    np.random.seed(seed)\n",
    "    torch.manual_seed(seed)\n",
    "    torch.cuda.manual_seed(seed)\n",
    "    torch.backends.cudnn.deterministic = True"
   ]
  },
  {
   "cell_type": "markdown",
   "metadata": {
    "id": "z8hVD0tG_z8l"
   },
   "source": [
    "## dataset"
   ]
  },
  {
   "cell_type": "code",
   "execution_count": 159,
   "metadata": {
    "id": "1aPOZBfP8O1M"
   },
   "outputs": [],
   "source": [
    "def add_noise(data):\n",
    "    if np.random.rand() > 0.5:\n",
    "        data += np.random.normal(0, 0.01, (data.shape))\n",
    "    return data\n",
    "\n",
    "def handle_mixup(idx, data, label, mixup_data, supervised_mixup_data, mixup_idx, mixup_rate):\n",
    "    mixup_data = mixup_data\n",
    "    # use supervised mixup data if available\n",
    "    if supervised_mixup_data is not None:\n",
    "        mixup_data = supervised_mixup_data[label]\n",
    "    # if mixup condition is set and id is not mixable\n",
    "    if mixup_idx is not None and not mixup_idx[idx]:\n",
    "        mixup_data = None\n",
    "    # do mixup if available\n",
    "    if mixup_data is not None:\n",
    "        data = mixup(data, mixup_data, mixup_rate)\n",
    "    \n",
    "    return data\n",
    "\n",
    "def mixup(data, mixup_data, mixup_rate):\n",
    "    mixup_rate = np.random.rand() * mixup_rate\n",
    "    idx = np.random.randint(0, len(mixup_data))\n",
    "    return (1-mixup_rate)*data + mixup_rate*mixup_data[idx]"
   ]
  },
  {
   "cell_type": "code",
   "execution_count": 160,
   "metadata": {
    "id": "7dEidv1V_wDZ"
   },
   "outputs": [],
   "source": [
    "class SleepDataset(torch.utils.data.Dataset):\n",
    "    def __init__(self, data, labels, transform=None, mixup_data=None, supervised_mixup_data=None, mixup_idx=None, mixup_rate=None):\n",
    "        self.data = data\n",
    "        self.labels = labels\n",
    "        self.transform = transform\n",
    "        \n",
    "        self.supervised_mixup_data = supervised_mixup_data\n",
    "        self.mixup_data = mixup_data\n",
    "        self.mixup_idx = mixup_idx\n",
    "        self.mixup_rate = mixup_rate\n",
    "\n",
    "    def __len__(self):\n",
    "        return len(self.data)\n",
    "\n",
    "    def __getitem__(self, idx):\n",
    "        data = self.data[idx]\n",
    "\n",
    "        if self.labels is not None:\n",
    "            label = self.labels[idx].astype(np.int64)\n",
    "        else:\n",
    "            label = -1\n",
    "        \n",
    "        ### DATA AUGMENTATION ###\n",
    "        data = handle_mixup(idx, data, label, self.mixup_data, self.supervised_mixup_data, self.mixup_idx, self.mixup_rate)\n",
    "\n",
    "        if self.transform:\n",
    "            data = self.transform(data)\n",
    "        ### END DATA AUGMENTATION ###\n",
    "\n",
    "        data = data.astype(np.float32)\n",
    "\n",
    "        return {\"eeg\": data, \"label\": label}"
   ]
  },
  {
   "cell_type": "markdown",
   "metadata": {
    "id": "HINToD0wVG4Q"
   },
   "source": [
    "## runner"
   ]
  },
  {
   "cell_type": "markdown",
   "metadata": {
    "id": "duip5LdjmWHV"
   },
   "source": [
    "### Focal loss"
   ]
  },
  {
   "cell_type": "code",
   "execution_count": 161,
   "metadata": {
    "id": "7g5R7c1rmYOn"
   },
   "outputs": [],
   "source": [
    "import torch.nn.functional as F\n",
    "\n",
    "class FocalLoss(torch.nn.Module):\n",
    "    \"\"\" Focal loss with optional label smoothing.\n",
    "\n",
    "    Calculates mean focal loss over given data with optional label smoothing.\n",
    "\n",
    "    Attributes\n",
    "    ----------\n",
    "        alpha: int = 1\n",
    "        gamma: int = 2\n",
    "        logits: bool = True\n",
    "        reduce: bool = True\n",
    "        ls: float = None\n",
    "            label smoothing ratio, if None label smoothing will not be applied\n",
    "        classes: int = None\n",
    "            number of classes required for label smoothing\n",
    "    \"\"\"\n",
    "\n",
    "    def __init__(\n",
    "        self,\n",
    "        alpha: int = 1,\n",
    "        gamma: int = 2,\n",
    "        logits: bool = True,\n",
    "        reduce: bool = True,\n",
    "        ls: float = 0.05,\n",
    "        classes: int = 6,\n",
    "    ):\n",
    "        super(FocalLoss, self).__init__()\n",
    "        self.alpha = alpha\n",
    "        self.gamma = gamma\n",
    "        self.logits = logits\n",
    "        self.reduce = reduce\n",
    "        self.ls = ls\n",
    "        self.classes = classes\n",
    "\n",
    "    def forward(self, inputs, targets):\n",
    "        targets = F.one_hot(targets, num_classes=6)\n",
    "\n",
    "        if self.ls is not None:\n",
    "            targets = (1 - self.ls) * targets + self.ls / self.classes\n",
    "\n",
    "        if self.logits:\n",
    "            BCE_loss = F.binary_cross_entropy_with_logits(inputs, targets, reduction=\"none\")\n",
    "        else:\n",
    "            BCE_loss = F.binary_cross_entropy(inputs, targets, reduction=\"none\")\n",
    "\n",
    "        pt = torch.exp(-BCE_loss)\n",
    "        F_loss = self.alpha * (1 - pt) ** self.gamma * BCE_loss\n",
    "\n",
    "        if self.reduce:\n",
    "            return torch.mean(F_loss)\n",
    "        else:\n",
    "            return F_loss"
   ]
  },
  {
   "cell_type": "markdown",
   "metadata": {
    "id": "43a4q46BYy8d"
   },
   "source": [
    "### VAT"
   ]
  },
  {
   "cell_type": "code",
   "execution_count": 162,
   "metadata": {
    "id": "VU_cmbORYz65"
   },
   "outputs": [],
   "source": [
    "# implementation from: https://github.com/lyakaap/VAT-pytorch\n",
    "\n",
    "import contextlib\n",
    "import torch\n",
    "import torch.nn as nn\n",
    "import torch.nn.functional as F\n",
    "\n",
    "\n",
    "@contextlib.contextmanager\n",
    "def _disable_tracking_bn_stats(model):\n",
    "\n",
    "    def switch_attr(m):\n",
    "        if hasattr(m, 'track_running_stats'):\n",
    "            m.track_running_stats ^= True\n",
    "            \n",
    "    model.apply(switch_attr)\n",
    "    yield\n",
    "    model.apply(switch_attr)\n",
    "\n",
    "\n",
    "def _l2_normalize(d):\n",
    "    d_reshaped = d.view(d.shape[0], -1, *(1 for _ in range(d.dim() - 2)))\n",
    "    d /= torch.norm(d_reshaped, dim=1, keepdim=True) + 1e-8\n",
    "    return d\n",
    "\n",
    "\n",
    "class VATLoss(nn.Module):\n",
    "\n",
    "    def __init__(self, xi=10.0, eps=1.0, ip=1):\n",
    "        \"\"\"VAT loss\n",
    "        :param xi: hyperparameter of VAT (default: 10.0)\n",
    "        :param eps: hyperparameter of VAT (default: 1.0)\n",
    "        :param ip: iteration times of computing adv noise (default: 1)\n",
    "        \"\"\"\n",
    "        super(VATLoss, self).__init__()\n",
    "        self.xi = xi\n",
    "        self.eps = eps\n",
    "        self.ip = ip\n",
    "\n",
    "    def forward(self, model, x):\n",
    "        with torch.no_grad():\n",
    "            pred = F.softmax(model(x), dim=1)\n",
    "\n",
    "        # prepare random unit tensor\n",
    "        d = torch.rand(x.shape).sub(0.5).to(x.device)\n",
    "        d = _l2_normalize(d)\n",
    "\n",
    "        with _disable_tracking_bn_stats(model):\n",
    "            # calc adversarial direction\n",
    "            for _ in range(self.ip):\n",
    "                d.requires_grad_()\n",
    "                pred_hat = model(x + self.xi * d)\n",
    "                logp_hat = F.log_softmax(pred_hat, dim=1)\n",
    "                adv_distance = F.kl_div(logp_hat, pred, reduction='batchmean')\n",
    "                adv_distance.backward()\n",
    "                d = _l2_normalize(d.grad)\n",
    "                model.zero_grad()\n",
    "    \n",
    "            # calc LDS\n",
    "            r_adv = d * self.eps\n",
    "            pred_hat = model(x + r_adv)\n",
    "            logp_hat = F.log_softmax(pred_hat, dim=1)\n",
    "            lds = F.kl_div(logp_hat, pred, reduction='batchmean')\n",
    "\n",
    "        return lds"
   ]
  },
  {
   "cell_type": "markdown",
   "metadata": {
    "id": "4iFeq1WGmNWO"
   },
   "source": [
    "### train, validate, predict"
   ]
  },
  {
   "cell_type": "code",
   "execution_count": 163,
   "metadata": {
    "id": "o3_fBKRWVJbq"
   },
   "outputs": [],
   "source": [
    "import torch\n",
    "import numpy as np\n",
    "\n",
    "def train_epoch(args, model, loader, criterion, optimizer, scheduler, epoch):\n",
    "    losses = []\n",
    "    targets_all = []\n",
    "    outputs_all = []\n",
    "\n",
    "    vat_loss = VATLoss(xi=10.0, eps=1.0, ip=1)\n",
    "\n",
    "    model.train()\n",
    "    t = tqdm(loader)\n",
    "\n",
    "    for i, sample in enumerate(t):\n",
    "        optimizer.zero_grad()\n",
    "\n",
    "        eeg = sample[\"eeg\"].to(args.device)\n",
    "        target = sample[\"label\"].to(args.device)\n",
    "\n",
    "        lds = vat_loss(model, eeg)\n",
    "        output = model(eeg)\n",
    "        loss = criterion(output, target) + args.alpha * lds\n",
    "        loss.backward()\n",
    "        optimizer.step()\n",
    "\n",
    "        if scheduler is not None:\n",
    "            scheduler.step()\n",
    "\n",
    "        losses.append(loss.item())\n",
    "        \n",
    "        target = target.cpu().numpy()\n",
    "        output = output.detach().cpu().numpy()\n",
    "\n",
    "        targets_all.extend(target)\n",
    "        outputs_all.extend(output)\n",
    "\n",
    "        output_loss = np.mean(losses)\n",
    "        output_score = np.mean(targets_all == np.argmax(outputs_all, axis=1))\n",
    "\n",
    "        t.set_description(\n",
    "            f\"Epoch {epoch}/{args.epochs} - Train loss: {output_loss:0.4f}, score: {output_score:0.4f}\"\n",
    "        )\n",
    "\n",
    "    return targets_all, outputs_all, output_score, output_loss\n",
    "\n",
    "\n",
    "def validate(args, model, loader, criterion, desc=\"Valid\"):\n",
    "    losses = []\n",
    "    targets_all = []\n",
    "    outputs_all = []\n",
    "\n",
    "    t = tqdm(loader)\n",
    "    model.eval()\n",
    "    with torch.no_grad():\n",
    "        for i, sample in enumerate(t):\n",
    "            eeg = sample[\"eeg\"].to(args.device)\n",
    "            target = sample[\"label\"].to(args.device)\n",
    "\n",
    "            output = model(eeg)\n",
    "            loss = criterion(output, target)\n",
    "\n",
    "            losses.append(loss.item())\n",
    "            targets_all.extend(target.cpu().numpy())\n",
    "            outputs_all.extend(output.detach().cpu().numpy())\n",
    "\n",
    "            output_loss = np.mean(losses)\n",
    "            output_score = np.mean(targets_all == np.argmax(outputs_all, axis=1))\n",
    "\n",
    "            t.set_description(\n",
    "                f\"\\t  - {desc} loss: {output_loss:0.4f}, score: {output_score:0.4f}\"\n",
    "            )\n",
    "\n",
    "    return targets_all, outputs_all, output_score, output_loss\n",
    "\n",
    "\n",
    "def predict(args, model, loader):\n",
    "    outputs_all = []\n",
    "\n",
    "    t = tqdm(loader)\n",
    "    model.eval()\n",
    "    with torch.no_grad():\n",
    "        for i, sample in enumerate(t):\n",
    "            eeg = sample[\"eeg\"].to(args.device)\n",
    "\n",
    "            output = model(eeg)\n",
    "            outputs_all.extend(output.detach().cpu().numpy())\n",
    "    return outputs_all"
   ]
  },
  {
   "cell_type": "markdown",
   "metadata": {
    "id": "gMPUxGe0X4L_"
   },
   "source": [
    "## model"
   ]
  },
  {
   "cell_type": "code",
   "execution_count": 164,
   "metadata": {
    "id": "SjtnkFJrhTp8"
   },
   "outputs": [],
   "source": [
    "import torch\n",
    "import torch.nn as nn"
   ]
  },
  {
   "cell_type": "code",
   "execution_count": 165,
   "metadata": {
    "id": "__H9q1GtX5Fe"
   },
   "outputs": [],
   "source": [
    "# def get_linear(in_features, out_features):\n",
    "#     return nn.utils.weight_norm(nn.Linear(in_features, out_features))\n",
    "\n",
    "# class BaseEEGClassifier(nn.Module):\n",
    "#     def __init__(self):\n",
    "#         super(BaseEEGClassifier, self).__init__()\n",
    "\n",
    "#         N_channels = [64, 128, 256]\n",
    "        \n",
    "#         self.c1 = nn.Sequential(nn.Conv1d(2, N_channels[0], 401, 50, 200),\n",
    "#                                 nn.BatchNorm1d(N_channels[0]),\n",
    "#                                 nn.SiLU(),\n",
    "#                                 nn.Dropout(0.2),\n",
    "#                                 nn.MaxPool1d(3,2,1),\n",
    "#                                 nn.Conv1d(N_channels[0], N_channels[1], 7, 2, 3),\n",
    "#                                 nn.BatchNorm1d(N_channels[1]),\n",
    "#                                 nn.SiLU(),\n",
    "#                                 nn.Dropout(0.2),\n",
    "#                                 nn.Conv1d(N_channels[1], N_channels[2], 5, 1, 2),\n",
    "#                                 nn.BatchNorm1d(N_channels[2]),\n",
    "#                                 nn.AdaptiveMaxPool1d(1),\n",
    "#                                 )\n",
    "        \n",
    "#         self.c2 = nn.Sequential(nn.Conv1d(2, N_channels[0], 51, 5, 25),\n",
    "#                                 nn.BatchNorm1d(N_channels[0]),\n",
    "#                                 nn.SiLU(),\n",
    "#                                 nn.Dropout(0.2),\n",
    "#                                 nn.MaxPool1d(9,3,4),\n",
    "#                                 nn.Conv1d(N_channels[0], N_channels[1], 7, 2, 3),\n",
    "#                                 nn.BatchNorm1d(N_channels[1]),\n",
    "#                                 nn.SiLU(),\n",
    "#                                 nn.Conv1d(N_channels[1], N_channels[2], 5, 1, 2),\n",
    "#                                 nn.BatchNorm1d(N_channels[2]),\n",
    "#                                 nn.AdaptiveMaxPool1d(1),\n",
    "#                                 )\n",
    "        \n",
    "#         self.linear = get_linear(N_channels[2]*2, 1024)\n",
    "#         self.act = nn.SiLU()\n",
    "#         self.dropout = nn.Dropout(0.2)\n",
    "        \n",
    "#     def forward(self, x):\n",
    "#         x1 = self.c1(x)\n",
    "#         x2 = self.c2(x)\n",
    "\n",
    "#         x = torch.cat([x1, x2], dim=1)\n",
    "#         x = x.flatten(1,-1)\n",
    "#         x = self.act(x)\n",
    "#         x = self.dropout(x)\n",
    "#         x = self.linear(x)\n",
    "#         x = self.act(x)\n",
    "#         return x\n",
    "\n",
    "# class EEGClassifier(nn.Module):\n",
    "#     def __init__(self):\n",
    "#         super(EEGClassifier, self).__init__()\n",
    "\n",
    "#         self.base = BaseEEGClassifier()\n",
    "#         self.fc = get_linear(1024, 6)\n",
    "\n",
    "#     def features(self, x):\n",
    "#         x = self.base(x)\n",
    "#         return x\n",
    "\n",
    "#     def forward(self, x):\n",
    "#         x = self.features(x)\n",
    "#         x = self.fc(x)\n",
    "#         return x"
   ]
  },
  {
   "cell_type": "code",
   "execution_count": 166,
   "metadata": {},
   "outputs": [],
   "source": [
    "# !pip install braindecode"
   ]
  },
  {
   "cell_type": "code",
   "execution_count": 167,
   "metadata": {
    "scrolled": true
   },
   "outputs": [],
   "source": [
    "# import torch\n",
    "# import torch.nn as nn\n",
    "# import torch.nn.functional as F\n",
    "# from braindecode.models import USleep\n",
    "\n",
    "# def get_linear(in_features, out_features):\n",
    "#     return nn.utils.weight_norm(nn.Linear(in_features, out_features))\n",
    "\n",
    "# class AttentionBlock(nn.Module):\n",
    "#     def __init__(self, embed_dim, hidden_dim, num_heads, dropout=0.1):\n",
    "#         super().__init__()\n",
    "#         self.attention = nn.MultiheadAttention(embed_dim, num_heads, dropout=dropout)\n",
    "#         self.norm1 = nn.LayerNorm(embed_dim)\n",
    "#         self.norm2 = nn.LayerNorm(embed_dim)\n",
    "#         self.ff = nn.Sequential(\n",
    "#             nn.Linear(embed_dim, hidden_dim),\n",
    "#             nn.GELU(),\n",
    "#             nn.Dropout(dropout),\n",
    "#             nn.Linear(hidden_dim, embed_dim),\n",
    "#             nn.Dropout(dropout)\n",
    "#         )\n",
    "\n",
    "#     def forward(self, x):\n",
    "#         attn_output, _ = self.attention(x, x, x)\n",
    "#         x = self.norm1(x + attn_output)\n",
    "#         x = self.norm2(x + self.ff(x))\n",
    "#         return x\n",
    "\n",
    "# class BaseEEGClassifier(nn.Module):\n",
    "#     def __init__(self, n_chans=2, sfreq=100, depth=8, n_time_filters=10, \n",
    "#                  complexity_factor=2.0, n_outputs=5, input_window_seconds=30):\n",
    "#         super(BaseEEGClassifier, self).__init__()\n",
    "        \n",
    "#         self.usleep = USleep(\n",
    "#             n_chans=n_chans,\n",
    "#             sfreq=sfreq,\n",
    "#             depth=depth,\n",
    "#             n_time_filters=n_time_filters,\n",
    "#             complexity_factor=complexity_factor,\n",
    "#             with_skip_connection=True,\n",
    "#             n_outputs=n_outputs,\n",
    "#             input_window_seconds=input_window_seconds,\n",
    "#         )\n",
    "        \n",
    "#         self.attention = nn.MultiheadAttention(n_outputs, num_heads=1, batch_first=True)\n",
    "        \n",
    "#         self.fc = nn.Sequential(\n",
    "#             nn.Linear(n_outputs, n_outputs * 2),\n",
    "#             nn.GELU(),\n",
    "#             nn.Dropout(0.3),\n",
    "#             nn.Linear(n_outputs * 2, n_outputs * 2),\n",
    "#             nn.GELU(),\n",
    "#             nn.Dropout(0.3),\n",
    "#             nn.Linear(n_outputs * 2, n_outputs)\n",
    "#         )\n",
    "\n",
    "#     def forward(self, x):\n",
    "#         x = self.usleep(x)\n",
    "#         # Reshape x to (batch_size, seq_len, n_outputs)\n",
    "#         if x.dim() == 2:\n",
    "#             x = x.unsqueeze(1)\n",
    "#         elif x.dim() == 3:\n",
    "#             x = x.transpose(1, 2)\n",
    "        \n",
    "#         # Apply attention\n",
    "#         x, _ = self.attention(x, x, x)\n",
    "        \n",
    "#         # Global average pooling\n",
    "#         x = x.mean(dim=1)\n",
    "        \n",
    "#         x = self.fc(x)\n",
    "#         return x\n",
    "\n",
    "# class EEGClassifier(nn.Module):\n",
    "#     def __init__(self):\n",
    "#         super(EEGClassifier, self).__init__()\n",
    "#         self.base = BaseEEGClassifier()\n",
    "#         self.fc = nn.Linear(5, 6)  # Assuming the base model outputs 5 features\n",
    "\n",
    "#     def forward(self, x):\n",
    "#         x = self.base(x)\n",
    "#         x = self.fc(x)\n",
    "#         return x\n",
    "\n",
    "# # Example usage\n",
    "# model = EEGClassifier()\n",
    "# print(model)"
   ]
  },
  {
   "cell_type": "code",
   "execution_count": 168,
   "metadata": {
    "scrolled": true
   },
   "outputs": [],
   "source": [
    "# import torch\n",
    "# import torch.nn as nn\n",
    "# import torch.nn.functional as F\n",
    "\n",
    "# class CNNBlock(nn.Module):\n",
    "#     def __init__(self, in_channels, out_channels, kernel_size, stride=1, padding=0):\n",
    "#         super(CNNBlock, self).__init__()\n",
    "#         self.conv = nn.Conv1d(in_channels, out_channels, kernel_size, stride, padding)\n",
    "#         self.bn = nn.BatchNorm1d(out_channels)\n",
    "#         self.relu = nn.ReLU()\n",
    "\n",
    "#     def forward(self, x):\n",
    "#         return self.relu(self.bn(self.conv(x)))\n",
    "\n",
    "# class TransformerEncoderLayer(nn.Module):\n",
    "#     def __init__(self, d_model, nhead, dim_feedforward=2048, dropout=0.1):\n",
    "#         super(TransformerEncoderLayer, self).__init__()\n",
    "#         self.self_attn = nn.MultiheadAttention(d_model, nhead, dropout=dropout)\n",
    "#         self.linear1 = nn.Linear(d_model, dim_feedforward)\n",
    "#         self.dropout = nn.Dropout(dropout)\n",
    "#         self.linear2 = nn.Linear(dim_feedforward, d_model)\n",
    "#         self.norm1 = nn.LayerNorm(d_model)\n",
    "#         self.norm2 = nn.LayerNorm(d_model)\n",
    "#         self.dropout1 = nn.Dropout(dropout)\n",
    "#         self.dropout2 = nn.Dropout(dropout)\n",
    "#         self.activation = F.relu\n",
    "\n",
    "#     def forward(self, src, src_mask=None, src_key_padding_mask=None, is_causal=False):\n",
    "#         src2 = self.self_attn(src, src, src, attn_mask=src_mask,\n",
    "#                               key_padding_mask=src_key_padding_mask,\n",
    "#                               is_causal=is_causal)[0]\n",
    "#         src = src + self.dropout1(src2)\n",
    "#         src = self.norm1(src)\n",
    "#         src2 = self.linear2(self.dropout(self.activation(self.linear1(src))))\n",
    "#         src = src + self.dropout2(src2)\n",
    "#         src = self.norm2(src)\n",
    "#         return src\n",
    "\n",
    "# class EEGClassifier(nn.Module):\n",
    "#     def __init__(self, n_channels=2, n_time=3000, n_classes=6):\n",
    "#         super(EEGClassifier, self).__init__()\n",
    "        \n",
    "#         # CNN layers\n",
    "#         self.cnn_layers = nn.Sequential(\n",
    "#             CNNBlock(n_channels, 16, kernel_size=7, stride=2, padding=3),\n",
    "#             CNNBlock(16, 32, kernel_size=5, stride=2, padding=2),\n",
    "#             CNNBlock(32, 64, kernel_size=3, stride=2, padding=1),\n",
    "#             CNNBlock(64, 128, kernel_size=3, stride=2, padding=1)\n",
    "#         )\n",
    "        \n",
    "#         # Calculate the output size of CNN layers\n",
    "#         with torch.no_grad():\n",
    "#             dummy_input = torch.zeros(1, n_channels, n_time)\n",
    "#             dummy_output = self.cnn_layers(dummy_input)\n",
    "#             self.cnn_output_size = dummy_output.size(1) * dummy_output.size(2)\n",
    "        \n",
    "#         # Transformer layers\n",
    "#         encoder_layer = TransformerEncoderLayer(d_model=128, nhead=8)\n",
    "#         self.transformer_layers = nn.TransformerEncoder(encoder_layer, num_layers=3)\n",
    "        \n",
    "#         # MLP layers\n",
    "#         self.mlp = nn.Sequential(\n",
    "#             nn.Linear(self.cnn_output_size, 512),\n",
    "#             nn.ReLU(),\n",
    "#             nn.Dropout(0.5),\n",
    "#             nn.Linear(512, 128),\n",
    "#             nn.ReLU(),\n",
    "#             nn.Dropout(0.5),\n",
    "#             nn.Linear(128, n_classes)\n",
    "#         )\n",
    "\n",
    "#     def forward(self, x):\n",
    "#         # CNN\n",
    "#         x = self.cnn_layers(x)\n",
    "        \n",
    "#         # Prepare for Transformer (seq_len, batch_size, d_model)\n",
    "#         x = x.permute(2, 0, 1)\n",
    "        \n",
    "#         # Transformer\n",
    "#         x = self.transformer_layers(x)\n",
    "        \n",
    "#         # Prepare for MLP\n",
    "#         x = x.permute(1, 0, 2)\n",
    "#         x = x.reshape(x.size(0), -1)\n",
    "        \n",
    "#         # MLP\n",
    "#         x = self.mlp(x)\n",
    "        \n",
    "#         return x\n",
    "\n",
    "# # Example usage\n",
    "# model = EEGClassifier(n_channels=2, n_time=3000, n_classes=6)\n",
    "# print(model)\n",
    "\n",
    "# # Test with random input\n",
    "# x = torch.randn(32, 2, 3000)  # (batch_size, n_channels, n_time)\n",
    "# output = model(x)\n",
    "# print(f\"Output shape: {output.shape}\")"
   ]
  },
  {
   "cell_type": "code",
   "execution_count": 169,
   "metadata": {},
   "outputs": [
    {
     "name": "stdout",
     "output_type": "stream",
     "text": [
      "EEGClassifier(\n",
      "  (conv1): Conv1d(2, 64, kernel_size=(7,), stride=(2,), padding=(3,), bias=False)\n",
      "  (bn1): BatchNorm1d(64, eps=1e-05, momentum=0.1, affine=True, track_running_stats=True)\n",
      "  (relu): ReLU(inplace=True)\n",
      "  (maxpool): MaxPool1d(kernel_size=3, stride=2, padding=1, dilation=1, ceil_mode=False)\n",
      "  (layer1): Sequential(\n",
      "    (0): ResidualBlock(\n",
      "      (conv1): Conv1d(64, 64, kernel_size=(3,), stride=(1,), padding=(1,), bias=False)\n",
      "      (bn1): BatchNorm1d(64, eps=1e-05, momentum=0.1, affine=True, track_running_stats=True)\n",
      "      (conv2): Conv1d(64, 64, kernel_size=(3,), stride=(1,), padding=(1,), bias=False)\n",
      "      (bn2): BatchNorm1d(64, eps=1e-05, momentum=0.1, affine=True, track_running_stats=True)\n",
      "      (se): SEBlock(\n",
      "        (avg_pool): AdaptiveAvgPool1d(output_size=1)\n",
      "        (fc): Sequential(\n",
      "          (0): Linear(in_features=64, out_features=4, bias=False)\n",
      "          (1): ReLU(inplace=True)\n",
      "          (2): Linear(in_features=4, out_features=64, bias=False)\n",
      "          (3): Sigmoid()\n",
      "        )\n",
      "      )\n",
      "      (shortcut): Sequential()\n",
      "    )\n",
      "    (1): ResidualBlock(\n",
      "      (conv1): Conv1d(64, 64, kernel_size=(3,), stride=(1,), padding=(1,), bias=False)\n",
      "      (bn1): BatchNorm1d(64, eps=1e-05, momentum=0.1, affine=True, track_running_stats=True)\n",
      "      (conv2): Conv1d(64, 64, kernel_size=(3,), stride=(1,), padding=(1,), bias=False)\n",
      "      (bn2): BatchNorm1d(64, eps=1e-05, momentum=0.1, affine=True, track_running_stats=True)\n",
      "      (se): SEBlock(\n",
      "        (avg_pool): AdaptiveAvgPool1d(output_size=1)\n",
      "        (fc): Sequential(\n",
      "          (0): Linear(in_features=64, out_features=4, bias=False)\n",
      "          (1): ReLU(inplace=True)\n",
      "          (2): Linear(in_features=4, out_features=64, bias=False)\n",
      "          (3): Sigmoid()\n",
      "        )\n",
      "      )\n",
      "      (shortcut): Sequential()\n",
      "    )\n",
      "  )\n",
      "  (layer2): Sequential(\n",
      "    (0): ResidualBlock(\n",
      "      (conv1): Conv1d(64, 128, kernel_size=(3,), stride=(2,), padding=(1,), bias=False)\n",
      "      (bn1): BatchNorm1d(128, eps=1e-05, momentum=0.1, affine=True, track_running_stats=True)\n",
      "      (conv2): Conv1d(128, 128, kernel_size=(3,), stride=(1,), padding=(1,), bias=False)\n",
      "      (bn2): BatchNorm1d(128, eps=1e-05, momentum=0.1, affine=True, track_running_stats=True)\n",
      "      (se): SEBlock(\n",
      "        (avg_pool): AdaptiveAvgPool1d(output_size=1)\n",
      "        (fc): Sequential(\n",
      "          (0): Linear(in_features=128, out_features=8, bias=False)\n",
      "          (1): ReLU(inplace=True)\n",
      "          (2): Linear(in_features=8, out_features=128, bias=False)\n",
      "          (3): Sigmoid()\n",
      "        )\n",
      "      )\n",
      "      (shortcut): Sequential(\n",
      "        (0): Conv1d(64, 128, kernel_size=(1,), stride=(2,), bias=False)\n",
      "        (1): BatchNorm1d(128, eps=1e-05, momentum=0.1, affine=True, track_running_stats=True)\n",
      "      )\n",
      "    )\n",
      "    (1): ResidualBlock(\n",
      "      (conv1): Conv1d(128, 128, kernel_size=(3,), stride=(1,), padding=(1,), bias=False)\n",
      "      (bn1): BatchNorm1d(128, eps=1e-05, momentum=0.1, affine=True, track_running_stats=True)\n",
      "      (conv2): Conv1d(128, 128, kernel_size=(3,), stride=(1,), padding=(1,), bias=False)\n",
      "      (bn2): BatchNorm1d(128, eps=1e-05, momentum=0.1, affine=True, track_running_stats=True)\n",
      "      (se): SEBlock(\n",
      "        (avg_pool): AdaptiveAvgPool1d(output_size=1)\n",
      "        (fc): Sequential(\n",
      "          (0): Linear(in_features=128, out_features=8, bias=False)\n",
      "          (1): ReLU(inplace=True)\n",
      "          (2): Linear(in_features=8, out_features=128, bias=False)\n",
      "          (3): Sigmoid()\n",
      "        )\n",
      "      )\n",
      "      (shortcut): Sequential()\n",
      "    )\n",
      "  )\n",
      "  (layer3): Sequential(\n",
      "    (0): ResidualBlock(\n",
      "      (conv1): Conv1d(128, 256, kernel_size=(3,), stride=(2,), padding=(1,), bias=False)\n",
      "      (bn1): BatchNorm1d(256, eps=1e-05, momentum=0.1, affine=True, track_running_stats=True)\n",
      "      (conv2): Conv1d(256, 256, kernel_size=(3,), stride=(1,), padding=(1,), bias=False)\n",
      "      (bn2): BatchNorm1d(256, eps=1e-05, momentum=0.1, affine=True, track_running_stats=True)\n",
      "      (se): SEBlock(\n",
      "        (avg_pool): AdaptiveAvgPool1d(output_size=1)\n",
      "        (fc): Sequential(\n",
      "          (0): Linear(in_features=256, out_features=16, bias=False)\n",
      "          (1): ReLU(inplace=True)\n",
      "          (2): Linear(in_features=16, out_features=256, bias=False)\n",
      "          (3): Sigmoid()\n",
      "        )\n",
      "      )\n",
      "      (shortcut): Sequential(\n",
      "        (0): Conv1d(128, 256, kernel_size=(1,), stride=(2,), bias=False)\n",
      "        (1): BatchNorm1d(256, eps=1e-05, momentum=0.1, affine=True, track_running_stats=True)\n",
      "      )\n",
      "    )\n",
      "    (1): ResidualBlock(\n",
      "      (conv1): Conv1d(256, 256, kernel_size=(3,), stride=(1,), padding=(1,), bias=False)\n",
      "      (bn1): BatchNorm1d(256, eps=1e-05, momentum=0.1, affine=True, track_running_stats=True)\n",
      "      (conv2): Conv1d(256, 256, kernel_size=(3,), stride=(1,), padding=(1,), bias=False)\n",
      "      (bn2): BatchNorm1d(256, eps=1e-05, momentum=0.1, affine=True, track_running_stats=True)\n",
      "      (se): SEBlock(\n",
      "        (avg_pool): AdaptiveAvgPool1d(output_size=1)\n",
      "        (fc): Sequential(\n",
      "          (0): Linear(in_features=256, out_features=16, bias=False)\n",
      "          (1): ReLU(inplace=True)\n",
      "          (2): Linear(in_features=16, out_features=256, bias=False)\n",
      "          (3): Sigmoid()\n",
      "        )\n",
      "      )\n",
      "      (shortcut): Sequential()\n",
      "    )\n",
      "  )\n",
      "  (gru): GRU(256, 128, num_layers=2, batch_first=True, dropout=0.5, bidirectional=True)\n",
      "  (attn): MultiheadAttention(\n",
      "    (out_proj): NonDynamicallyQuantizableLinear(in_features=256, out_features=256, bias=True)\n",
      "  )\n",
      "  (fc): Sequential(\n",
      "    (0): Linear(in_features=256, out_features=128, bias=True)\n",
      "    (1): ReLU(inplace=True)\n",
      "    (2): Dropout(p=0.5, inplace=False)\n",
      "    (3): Linear(in_features=128, out_features=6, bias=True)\n",
      "  )\n",
      ")\n",
      "Output shape: torch.Size([32, 6])\n"
     ]
    }
   ],
   "source": [
    "import torch\n",
    "import torch.nn as nn\n",
    "import torch.nn.functional as F\n",
    "\n",
    "class SEBlock(nn.Module):\n",
    "    def __init__(self, channel, reduction=16):\n",
    "        super(SEBlock, self).__init__()\n",
    "        self.avg_pool = nn.AdaptiveAvgPool1d(1)\n",
    "        self.fc = nn.Sequential(\n",
    "            nn.Linear(channel, channel // reduction, bias=False),\n",
    "            nn.ReLU(inplace=True),\n",
    "            nn.Linear(channel // reduction, channel, bias=False),\n",
    "            nn.Sigmoid()\n",
    "        )\n",
    "\n",
    "    def forward(self, x):\n",
    "        b, c, _ = x.size()\n",
    "        y = self.avg_pool(x).view(b, c)\n",
    "        y = self.fc(y).view(b, c, 1)\n",
    "        return x * y.expand_as(x)\n",
    "\n",
    "class ResidualBlock(nn.Module):\n",
    "    def __init__(self, in_channels, out_channels, stride=1):\n",
    "        super(ResidualBlock, self).__init__()\n",
    "        self.conv1 = nn.Conv1d(in_channels, out_channels, kernel_size=3, stride=stride, padding=1, bias=False)\n",
    "        self.bn1 = nn.BatchNorm1d(out_channels)\n",
    "        self.conv2 = nn.Conv1d(out_channels, out_channels, kernel_size=3, padding=1, bias=False)\n",
    "        self.bn2 = nn.BatchNorm1d(out_channels)\n",
    "        self.se = SEBlock(out_channels)\n",
    "        \n",
    "        self.shortcut = nn.Sequential()\n",
    "        if stride != 1 or in_channels != out_channels:\n",
    "            self.shortcut = nn.Sequential(\n",
    "                nn.Conv1d(in_channels, out_channels, kernel_size=1, stride=stride, bias=False),\n",
    "                nn.BatchNorm1d(out_channels)\n",
    "            )\n",
    "\n",
    "    def forward(self, x):\n",
    "        out = F.relu(self.bn1(self.conv1(x)))\n",
    "        out = self.bn2(self.conv2(out))\n",
    "        out = self.se(out)\n",
    "        out += self.shortcut(x)\n",
    "        out = F.relu(out)\n",
    "        return out\n",
    "\n",
    "class EEGClassifier(nn.Module):\n",
    "    def __init__(self, eeg_channel=2, n_time=3000, n_classes=6, dropout=0.5):\n",
    "        super(EEGClassifier, self).__init__()\n",
    "        \n",
    "        self.conv1 = nn.Conv1d(eeg_channel, 64, kernel_size=7, stride=2, padding=3, bias=False)\n",
    "        self.bn1 = nn.BatchNorm1d(64)\n",
    "        self.relu = nn.ReLU(inplace=True)\n",
    "        self.maxpool = nn.MaxPool1d(kernel_size=3, stride=2, padding=1)\n",
    "        \n",
    "        self.layer1 = self._make_layer(64, 64, 2, stride=1)\n",
    "        self.layer2 = self._make_layer(64, 128, 2, stride=2)\n",
    "        self.layer3 = self._make_layer(128, 256, 2, stride=2)\n",
    "        \n",
    "        # Calculate the output size after convolutions and pooling\n",
    "        self.conv_output_size = n_time // 16  # Due to initial stride=2, maxpool, and two stride=2 in layers\n",
    "        \n",
    "        self.gru = nn.GRU(256, 128, num_layers=2, batch_first=True, bidirectional=True, dropout=dropout)\n",
    "        \n",
    "        self.attn = nn.MultiheadAttention(256, num_heads=8, dropout=dropout)\n",
    "        \n",
    "        self.fc = nn.Sequential(\n",
    "            nn.Linear(256, 128),\n",
    "            nn.ReLU(inplace=True),\n",
    "            nn.Dropout(dropout),\n",
    "            nn.Linear(128, n_classes)\n",
    "        )\n",
    "\n",
    "    def _make_layer(self, in_channels, out_channels, num_blocks, stride):\n",
    "        layers = []\n",
    "        layers.append(ResidualBlock(in_channels, out_channels, stride))\n",
    "        for _ in range(1, num_blocks):\n",
    "            layers.append(ResidualBlock(out_channels, out_channels))\n",
    "        return nn.Sequential(*layers)\n",
    "\n",
    "    def forward(self, x):\n",
    "        x = self.conv1(x)\n",
    "        x = self.bn1(x)\n",
    "        x = self.relu(x)\n",
    "        x = self.maxpool(x)\n",
    "\n",
    "        x = self.layer1(x)\n",
    "        x = self.layer2(x)\n",
    "        x = self.layer3(x)\n",
    "        \n",
    "        # Prepare for GRU (batch, seq_len, features)\n",
    "        x = x.permute(0, 2, 1)\n",
    "        \n",
    "        # GRU\n",
    "        x, _ = self.gru(x)\n",
    "        \n",
    "        # Self-attention\n",
    "        x = x.permute(1, 0, 2)  # (seq_len, batch, features)\n",
    "        x, _ = self.attn(x, x, x)\n",
    "        x = x.permute(1, 0, 2)  # (batch, seq_len, features)\n",
    "        \n",
    "        # Global average pooling\n",
    "        x = x.mean(dim=1)\n",
    "        \n",
    "        # Final classification\n",
    "        x = self.fc(x)\n",
    "        \n",
    "        return x\n",
    "\n",
    "# Example usage\n",
    "model = EEGClassifier(eeg_channel=2, n_time=3000, n_classes=6)\n",
    "print(model)\n",
    "\n",
    "# Test with random input\n",
    "x = torch.randn(32, 2, 3000)  # (batch_size, n_channels, n_time)\n",
    "output = model(x)\n",
    "print(f\"Output shape: {output.shape}\")"
   ]
  },
  {
   "cell_type": "markdown",
   "metadata": {
    "id": "tgpJaPvEXQWE"
   },
   "source": [
    "## main"
   ]
  },
  {
   "cell_type": "code",
   "execution_count": 170,
   "metadata": {
    "id": "zTMVQpxbYi7o"
   },
   "outputs": [],
   "source": [
    "import seaborn as sns\n",
    "from torch.utils.data import DataLoader, WeightedRandomSampler\n",
    "from sklearn.metrics import confusion_matrix"
   ]
  },
  {
   "cell_type": "markdown",
   "metadata": {
    "id": "6vqs7U7vqiyd"
   },
   "source": [
    "### args"
   ]
  },
  {
   "cell_type": "code",
   "execution_count": 171,
   "metadata": {
    "id": "wI4A8-pCYsUW"
   },
   "outputs": [],
   "source": [
    "import json\n",
    "\n",
    "class base_args(object):\n",
    "    def __init__(self, model_name, seed=42):\n",
    "        self.model_name = model_name\n",
    "        self.seed = seed\n",
    "\n",
    "        self.lr = 1e-3\n",
    "        self.epochs = 5\n",
    "        self.batch_size = 120\n",
    "        self.num_workers = 2\n",
    "        self.device = ('cuda' if torch.cuda.is_available() else 'cpu')\n",
    "        self.alpha = 0.01\n",
    "        self.phase = \"base\"\n",
    "\n",
    "    def toJSON(self):\n",
    "        return json.dumps(self, default=lambda o: o.__dict__, sort_keys=True, indent=4)\n",
    "\n",
    "    def get_model_name(self):\n",
    "        return f\"{self.model_name}_{self.phase}\""
   ]
  },
  {
   "cell_type": "markdown",
   "metadata": {
    "id": "u8MwnK-aAM5r"
   },
   "source": [
    "### experiment helper functions"
   ]
  },
  {
   "cell_type": "code",
   "execution_count": 172,
   "metadata": {
    "id": "nOcEgm77xoR1"
   },
   "outputs": [],
   "source": [
    "def train_model(args, model, \n",
    "          train_data, train_labels, \n",
    "          valid_data, valid_labels, \n",
    "          train_weights=None, sample_rate=None, \n",
    "          use_scheduler=True,\n",
    "          history = {\"Train\": {\"Score\": [], \"Loss\": []}, \n",
    "                     \"Valid\": {\"Score\": [], \"Loss\": []}},\n",
    "          mixup_data=None, supervised_mixup_data=None, mixup_idx=None, mixup_rate=None):\n",
    "    \n",
    "    train_dataset = SleepDataset(train_data, train_labels, transform=add_noise, \n",
    "                                 mixup_data=mixup_data, supervised_mixup_data=supervised_mixup_data, \n",
    "                                 mixup_idx=mixup_idx, mixup_rate=mixup_rate)\n",
    "    \n",
    "    if train_weights is not None:\n",
    "        train_sampler = WeightedRandomSampler(weights = train_weights, num_samples=int(len(train_labels)*sample_rate))\n",
    "        train_loader = DataLoader(train_dataset, num_workers=args.num_workers, batch_size=args.batch_size, sampler=train_sampler, drop_last=True)\n",
    "    else:\n",
    "        train_loader = DataLoader(train_dataset, num_workers=args.num_workers, batch_size=args.batch_size, shuffle=True, drop_last=True)\n",
    "\n",
    "    model = model.to(args.device)\n",
    "    criterion = FocalLoss()\n",
    "    optimizer = torch.optim.AdamW(model.parameters(), lr=args.lr, weight_decay=5e-4)\n",
    "\n",
    "    if use_scheduler:\n",
    "        scheduler = torch.optim.lr_scheduler.OneCycleLR(\n",
    "                        optimizer,\n",
    "                        max_lr=args.lr,\n",
    "                        epochs=args.epochs,\n",
    "                        steps_per_epoch=len(train_loader),\n",
    "                        div_factor=10, \n",
    "                        final_div_factor=10,\n",
    "                        pct_start=0.1,\n",
    "                        anneal_strategy=\"cos\",\n",
    "                    )\n",
    "    else:\n",
    "        scheduler = None\n",
    "    \n",
    "    for epoch in range(1, args.epochs+1):\n",
    "        _, _, train_score, train_loss = train_epoch(args, model, train_loader, criterion, optimizer, scheduler, epoch)\n",
    "        _, _, valid_score, valid_loss = validate_model(args, model, valid_data, valid_labels, show_plot=False)\n",
    "\n",
    "        history[\"Train\"][\"Loss\"].append(train_loss)\n",
    "        history[\"Train\"][\"Score\"].append(train_score)\n",
    "        history[\"Valid\"][\"Loss\"].append(valid_loss)\n",
    "        history[\"Valid\"][\"Score\"].append(valid_score)\n",
    "\n",
    "    torch.save(model.state_dict(), f\"{OUTPUT_FOLDER}best_model_{args.get_model_name()}.pt\")\n",
    "\n",
    "\n",
    "def validate_model(args, model, valid_data, valid_labels, desc=\"Target\", show_plot=True):\n",
    "    criterion = FocalLoss()\n",
    "\n",
    "    valid_dataset = SleepDataset(valid_data, valid_labels)\n",
    "    valid_loader = DataLoader(valid_dataset, num_workers=args.num_workers, batch_size=args.batch_size, shuffle=False)\n",
    "    targets_all, outputs_all, output_score, output_loss = validate(args, model, valid_loader, criterion, desc)\n",
    "    \n",
    "    if show_plot:\n",
    "        cf_mat = confusion_matrix(targets_all, np.argmax(outputs_all, axis=1), normalize=\"true\")\n",
    "        plt.figure()\n",
    "        sns.heatmap(cf_mat, annot=True)\n",
    "        plt.show()\n",
    "\n",
    "    return targets_all, outputs_all, output_score, output_loss\n",
    "\n",
    "\n",
    "def get_prediction(args, model, data):\n",
    "    model.to(args.device)\n",
    "    model.load_state_dict(torch.load(f\"{OUTPUT_FOLDER}best_model_{args.get_model_name()}.pt\"))\n",
    "    \n",
    "    dataset = SleepDataset(data, None)\n",
    "    loader = DataLoader(dataset, num_workers=args.num_workers, batch_size=args.batch_size, shuffle=False)\n",
    "\n",
    "    output = predict(args, model, loader)\n",
    "    return output\n",
    "\n",
    "\n",
    "def ensemble(args_array, dataset_name=\"test\", phase=None):\n",
    "    ensemble_output = None\n",
    "\n",
    "    for args in args_array:\n",
    "        if phase is None:\n",
    "            fn = f\"{OUTPUT_FOLDER}{args.get_model_name()}-{dataset_name}_output.npy\"\n",
    "        else:\n",
    "            fn = f\"{OUTPUT_FOLDER}{args.model_name}_{phase}-{dataset_name}_output.npy\"\n",
    "            \n",
    "        output = np.load(fn)\n",
    "        if ensemble_output is None:\n",
    "            ensemble_output = output\n",
    "        else:\n",
    "            ensemble_output += output\n",
    "    \n",
    "    return ensemble_output\n",
    "    \n",
    "\n",
    "def predict_and_save(args, model, target_data, test_data):\n",
    "    target_output = get_prediction(args, model, target_data)\n",
    "    np.save(f\"{OUTPUT_FOLDER}{args.get_model_name()}-target_output.npy\", target_output)\n",
    "    \n",
    "    test_output = get_prediction(args, model, test_data)\n",
    "    np.save(f\"{OUTPUT_FOLDER}{args.get_model_name()}-test_output.npy\", test_output)\n",
    "\n",
    "\n",
    "def plot_history(history):\n",
    "    fig, axes = plt.subplots(2,1, figsize=(22,6))\n",
    "    axes[0].plot(history[\"Train\"][\"Score\"], label=\"Train score\")\n",
    "    axes[0].plot(history[\"Valid\"][\"Score\"], label=\"Valid score\")\n",
    "    axes[0].legend()\n",
    "    axes[1].plot(history[\"Train\"][\"Loss\"], label=\"Train loss\")\n",
    "    axes[1].plot(history[\"Valid\"][\"Loss\"], label=\"Valid loss\")\n",
    "    axes[1].legend()\n",
    "    fig.show()"
   ]
  },
  {
   "cell_type": "markdown",
   "metadata": {
    "id": "bzo9LCObFmVa"
   },
   "source": [
    "### competition data loaders"
   ]
  },
  {
   "cell_type": "markdown",
   "metadata": {
    "id": "JMXg2fEUFsk3"
   },
   "source": [
    "### training pipeline function"
   ]
  },
  {
   "cell_type": "code",
   "execution_count": 173,
   "metadata": {
    "id": "s1TkNDtYSVI6"
   },
   "outputs": [],
   "source": [
    "def supervised_run(args, model, train_data, train_labels, target_data, target_labels, test_data, mixup_data=None, supervised_mixup_data=None):\n",
    "    print(args.toJSON())\n",
    "\n",
    "    history = {\"Train\": {\"Score\": [], \"Loss\": []}, \n",
    "               \"Valid\": {\"Score\": [], \"Loss\": []}}\n",
    "\n",
    "    ############################\n",
    "    ### USE ONLY SOURCE DATA ###\n",
    "    ############################\n",
    "    args.phase = \"base\"\n",
    "\n",
    "    train_model(args, model, \n",
    "                train_data, train_labels, \n",
    "                target_data, target_labels, \n",
    "                mixup_data=mixup_data, mixup_rate=0.,\n",
    "                history=history)\n",
    "    # validate\n",
    "    model.load_state_dict(torch.load(f\"{OUTPUT_FOLDER}best_model_{args.get_model_name()}.pt\"))\n",
    "    print(\"\\n###### PHASE 1 FINISHED ##########\")\n",
    "    validate_model(args, model, target_data, target_labels, \"Target\")\n",
    "    # make predictions and save results\n",
    "    predict_and_save(args, model, target_data, test_data)\n",
    "\n",
    "\n",
    "    ##############################\n",
    "    ### SOURCE DATA WITH SUPERVISED MIXUP ###\n",
    "    ##############################\n",
    "    args.lr = 1e-4\n",
    "    args.epochs = 10\n",
    "    args.phase = \"mixup\"\n",
    "\n",
    "    train_model(args, model, \n",
    "                train_data, train_labels, \n",
    "                target_data, target_labels, \n",
    "                supervised_mixup_data=supervised_mixup_data, mixup_rate=0.5,\n",
    "                history=history)\n",
    "    # validate\n",
    "    model.load_state_dict(torch.load(f\"{OUTPUT_FOLDER}best_model_{args.get_model_name()}.pt\"))\n",
    "    print(\"\\n###### PHASE 2 FINISHED ########OUTPUT_FOLDER##\")\n",
    "    validate_model(args, model, target_data, target_labels, \"Target\")\n",
    "    # make predictions and save results\n",
    "    predict_and_save(args, model, target_data, test_data)\n",
    "\n",
    "    ###############################\n",
    "    ### FINETUNE ON TARGET DATA WITH MIXED UP SOURCE ###\n",
    "    ###############################\n",
    "    args.lr = 1e-3\n",
    "    args.epochs = 20\n",
    "    args.phase = \"mixup_finetuned\"\n",
    "    # prepare extended train data with sampler settings\n",
    "    extended_train_data = np.concatenate((train_data, target_data), axis=0)\n",
    "    extended_train_labels = np.concatenate((train_labels, target_labels), axis=0)\n",
    "\n",
    "    train_weights = [0.25] * len(train_labels) + [0.75] * len(target_labels)\n",
    "    mixup_idx = [True] * len(train_labels) + [False] * len(target_labels)\n",
    "    train_sample_rate = 0.5\n",
    "\n",
    "    train_model(args, model, \n",
    "                extended_train_data, extended_train_labels,\n",
    "                target_data, target_labels,\n",
    "                train_weights = train_weights, sample_rate=train_sample_rate,\n",
    "                mixup_data=mixup_data, mixup_idx=mixup_idx, mixup_rate=0.5,\n",
    "                use_scheduler=True, history=history)\n",
    "    \n",
    "    # validate\n",
    "    model.load_state_dict(torch.load(f\"{OUTPUT_FOLDER}best_model_{args.get_model_name()}.pt\"))\n",
    "    print(\"\\n###### PHASE 3 FINISHED ##########\")\n",
    "    validate_model(args, model, target_data, target_labels, \"Target\")\n",
    "    # make predictions and save results\n",
    "    predict_and_save(args, model, target_data, test_data)\n",
    "    # plot training history\n",
    "    plot_history(history)"
   ]
  },
  {
   "cell_type": "markdown",
   "metadata": {
    "id": "FEjmRhhGF4yL"
   },
   "source": [
    "### training"
   ]
  },
  {
   "cell_type": "code",
   "execution_count": 174,
   "metadata": {},
   "outputs": [
    {
     "name": "stdout",
     "output_type": "stream",
     "text": [
      "Train data shape: (72436, 2, 3000)\n",
      "Train labels shape: (72436,)\n",
      "Validate data shape: (9054, 2, 3000)\n",
      "Validate labels shape: (9054,)\n",
      "Test data shape: (9055, 2, 3000)\n",
      "Test labels shape: (9055,)\n",
      "Total data size (number of samples): 90545\n"
     ]
    }
   ],
   "source": [
    "import numpy as np\n",
    "\n",
    "# Load train data and labels\n",
    "source_data = np.load('data/train/data.npy')\n",
    "source_labels = np.load('data/train/labels.npy')\n",
    "\n",
    "# Load validate data and labels\n",
    "target_data = np.load('data/validate/data.npy')\n",
    "target_labels = np.load('data/validate/labels.npy')\n",
    "\n",
    "# Load test data and labels\n",
    "test_data = np.load('data/test/data.npy')\n",
    "test_labels = np.load('data/test/labels.npy')\n",
    "\n",
    "# Print the shape of each\n",
    "print(\"Train data shape:\", source_data.shape)\n",
    "print(\"Train labels shape:\", source_labels.shape)\n",
    "print(\"Validate data shape:\", target_data.shape)\n",
    "print(\"Validate labels shape:\", target_labels.shape)\n",
    "print(\"Test data shape:\", test_data.shape)\n",
    "print(\"Test labels shape:\", test_labels.shape)\n",
    "\n",
    "# Calculate and print total data size (total number of samples)\n",
    "total_data_size = source_labels.shape[0] + target_data.shape[0] + test_data.shape[0]\n",
    "print(\"Total data size (number of samples):\", total_data_size)\n"
   ]
  },
  {
   "cell_type": "code",
   "execution_count": 175,
   "metadata": {},
   "outputs": [
    {
     "name": "stdout",
     "output_type": "stream",
     "text": [
      "{0: 26.55180030925558, 1: 8.769604594654297, 2: 39.7393417274133, 3: 5.798542080848244, 4: 3.3797216699801194, 5: 15.760989617848464}\n"
     ]
    }
   ],
   "source": [
    "import numpy as np\n",
    "\n",
    "# Assuming y_train is your array\n",
    "unique_classes, counts = np.unique(target_labels, return_counts=True)\n",
    "\n",
    "# Calculating the total number of entries\n",
    "total_entries = counts.sum()\n",
    "\n",
    "# Creating a dictionary to show class: percentage of entries\n",
    "class_percentages = {cls: (count / total_entries) * 100 for cls, count in zip(unique_classes, counts)}\n",
    "print(class_percentages)\n"
   ]
  },
  {
   "cell_type": "code",
   "execution_count": 176,
   "metadata": {
    "scrolled": true
   },
   "outputs": [],
   "source": [
    "# mixup_data"
   ]
  },
  {
   "cell_type": "code",
   "execution_count": 177,
   "metadata": {},
   "outputs": [
    {
     "name": "stdout",
     "output_type": "stream",
     "text": [
      "0 (2404, 2, 3000)\n",
      "1 (794, 2, 3000)\n",
      "2 (3598, 2, 3000)\n",
      "3 (525, 2, 3000)\n",
      "4 (306, 2, 3000)\n",
      "5 (1427, 2, 3000)\n"
     ]
    }
   ],
   "source": [
    "tmp = np.array(target_data)\n",
    "supervised_mixup_data = {}\n",
    "for c in np.unique(target_labels):\n",
    "    supervised_mixup_data[c] = tmp[target_labels == c]\n",
    "    print(c, np.shape(supervised_mixup_data[c]))\n",
    "\n",
    "del tmp"
   ]
  },
  {
   "cell_type": "code",
   "execution_count": 178,
   "metadata": {
    "colab": {
     "base_uri": "https://localhost:8080/",
     "height": 1000
    },
    "id": "oY5ZcUnXF6W_",
    "outputId": "43c6399f-f198-4520-a92c-2eb57bd6d531",
    "scrolled": true
   },
   "outputs": [],
   "source": [
    "# args_array = []\n",
    "# args = base_args(\"eeg-classifier_seed-42\")\n",
    "# seed_everything(args.seed)\n",
    "# model = EEGClassifier()\n",
    "# supervised_run(args, model, source_data, source_labels, target_data, target_labels, test_data, mixup_data=test_data, supervised_mixup_data=supervised_mixup_data)\n",
    "# args_array.append(args)"
   ]
  },
  {
   "cell_type": "code",
   "execution_count": 179,
   "metadata": {},
   "outputs": [],
   "source": [
    "import os\n",
    "import time\n",
    "\n",
    "def run_and_save_model(args, model, source_data, source_labels, target_data, target_labels, test_data, mixup_data=None, supervised_mixup_data=None):\n",
    "    # Create a folder to save the model and training details\n",
    "    model_dir = os.path.join(OUTPUT_FOLDER, \"models\")\n",
    "    os.makedirs(model_dir, exist_ok=True)\n",
    "\n",
    "    # Track start time for training\n",
    "    start_time = time.time()\n",
    "\n",
    "    # Call the existing supervised_run function (no modifications)\n",
    "    supervised_run(args, model, source_data, source_labels, target_data, target_labels, test_data, mixup_data=mixup_data, supervised_mixup_data=supervised_mixup_data)\n",
    "\n",
    "    # Calculate and save training time\n",
    "    end_time = time.time()\n",
    "    train_time = end_time - start_time\n",
    "    train_time_str = time.strftime(\"%Hh %Mm %Ss\", time.gmtime(train_time))\n",
    "    print(f\"Training completed in: {train_time_str}\")\n",
    "\n",
    "    # Save the training time to a file\n",
    "    with open(os.path.join(model_dir, f\"{args.get_model_name()}_training_time.txt\"), \"w\") as f:\n",
    "        f.write(f\"Training time: {train_time_str}\\n\")\n",
    "\n",
    "    # Save the trained model\n",
    "    torch.save(model.state_dict(), os.path.join(model_dir, f\"{args.get_model_name()}_final_model.pt\"))\n",
    "\n",
    "    # Track start time for testing/validation\n",
    "    start_test_time = time.time()\n",
    "\n",
    "    # Validate and save predictions (already done in supervised_run)\n",
    "    # You can modify supervised_run to return the accuracies if not already done\n",
    "\n",
    "    # Capture validation and test accuracy\n",
    "    valid_score, test_score = validate_and_test(args, model, target_data, target_labels, test_data)\n",
    "\n",
    "    # Calculate and save testing time\n",
    "    end_test_time = time.time()\n",
    "    test_time = end_test_time - start_test_time\n",
    "    test_time_str = time.strftime(\"%Hh %Mm %Ss\", time.gmtime(test_time))\n",
    "    print(f\"Testing completed in: {test_time_str}\")\n",
    "\n",
    "    # Save the testing time and accuracies to the same file\n",
    "    with open(os.path.join(model_dir, f\"{args.get_model_name()}_training_time.txt\"), \"a\") as f:\n",
    "        f.write(f\"Testing time: {test_time_str}\\n\")\n",
    "        f.write(f\"Validation Accuracy: {valid_score:.2f}\\n\")\n",
    "        f.write(f\"Test Accuracy: {test_score:.2f}\\n\")\n",
    "\n",
    "    # Print accuracies explicitly\n",
    "    print(f\"Validation Accuracy: {valid_score:.2f}\")\n",
    "    print(f\"Test Accuracy: {test_score:.2f}\")\n",
    "\n",
    "def calculate_test_accuracy(predictions, true_labels):\n",
    "    \"\"\"\n",
    "    Calculate accuracy by comparing predictions to the true labels.\n",
    "    Arguments:\n",
    "    - predictions: Model predictions (e.g., class probabilities or logits)\n",
    "    - true_labels: Actual class labels\n",
    "    \n",
    "    Returns:\n",
    "    - accuracy: Calculated accuracy as a percentage\n",
    "    \"\"\"\n",
    "    # Assuming predictions are in the form of logits or probabilities\n",
    "    predicted_classes = torch.argmax(predictions, dim=1)\n",
    "    correct_predictions = (predicted_classes == true_labels).sum().item()\n",
    "    accuracy = correct_predictions / len(true_labels) * 100\n",
    "    return accuracy\n",
    "\n",
    "\n",
    "def validate_and_test(args, model, target_data, target_labels, test_data):\n",
    "    \"\"\"\n",
    "    Function to handle validation and test, returning their accuracies.\n",
    "    \"\"\"\n",
    "    # Validate\n",
    "    _, _, valid_score, _ = validate_model(args, model, target_data, target_labels, \"Target\")\n",
    "\n",
    "    # Test (Using predict_and_save if it also returns test accuracy)\n",
    "    test_output = get_prediction(args, model, test_data)\n",
    "    test_accuracy = calculate_test_accuracy(test_output)  # Define a function to calculate test accuracy\n",
    "\n",
    "    return valid_score, test_accuracy\n"
   ]
  },
  {
   "cell_type": "code",
   "execution_count": 180,
   "metadata": {},
   "outputs": [
    {
     "name": "stdout",
     "output_type": "stream",
     "text": [
      "Train data shape: (72436, 2, 3000)\n",
      "Train labels shape: (72436,)\n",
      "Validate data shape: (9054, 2, 3000)\n",
      "Validate labels shape: (9054,)\n",
      "Test data shape: (9055, 2, 3000)\n",
      "Test labels shape: (9055,)\n",
      "Total data size (number of samples): 90545\n"
     ]
    }
   ],
   "source": [
    "# Print the shape of each\n",
    "print(\"Train data shape:\", source_data.shape)\n",
    "print(\"Train labels shape:\", source_labels.shape)\n",
    "print(\"Validate data shape:\", target_data.shape)\n",
    "print(\"Validate labels shape:\", target_labels.shape)\n",
    "print(\"Test data shape:\", test_data.shape)\n",
    "print(\"Test labels shape:\", test_labels.shape)\n",
    "\n",
    "# Calculate and print total data size (total number of samples)\n",
    "total_data_size = source_labels.shape[0] + target_data.shape[0] + test_data.shape[0]\n",
    "print(\"Total data size (number of samples):\", total_data_size)\n",
    "\n",
    "\n",
    "# extended_train_data = source_data + target_data\n",
    "# extended_train_labels = source_labels + target_labels\n",
    "# print(\"extended_train_data shape:\", extended_train_data.shape)\n",
    "\n",
    "# print(\"extended_train_labels shape:\", extended_train_labels.shape)\n"
   ]
  },
  {
   "cell_type": "code",
   "execution_count": 181,
   "metadata": {},
   "outputs": [
    {
     "name": "stdout",
     "output_type": "stream",
     "text": [
      "{\n",
      "    \"alpha\": 0.01,\n",
      "    \"batch_size\": 120,\n",
      "    \"device\": \"cuda\",\n",
      "    \"epochs\": 5,\n",
      "    \"lr\": 0.001,\n",
      "    \"model_name\": \"eeg-classifier_seed-42\",\n",
      "    \"num_workers\": 2,\n",
      "    \"phase\": \"base\",\n",
      "    \"seed\": 42\n",
      "}\n"
     ]
    },
    {
     "name": "stderr",
     "output_type": "stream",
     "text": [
      "Epoch 1/5 - Train loss: 0.0586, score: 0.7229: 100%|█| 603/603 [01:27<00:00,  6.\n",
      "\t  - Target loss: 0.0437, score: 0.7908: 100%|██| 76/76 [00:01<00:00, 60.43it/s]\n",
      "Epoch 2/5 - Train loss: 0.0423, score: 0.8008: 100%|█| 603/603 [01:28<00:00,  6.\n",
      "\t  - Target loss: 0.0365, score: 0.8246: 100%|██| 76/76 [00:01<00:00, 60.06it/s]\n",
      "Epoch 3/5 - Train loss: 0.0386, score: 0.8201: 100%|█| 603/603 [01:28<00:00,  6.\n",
      "\t  - Target loss: 0.0350, score: 0.8338: 100%|██| 76/76 [00:01<00:00, 60.46it/s]\n",
      "Epoch 4/5 - Train loss: 0.0356, score: 0.8330: 100%|█| 603/603 [01:28<00:00,  6.\n",
      "\t  - Target loss: 0.0333, score: 0.8414: 100%|██| 76/76 [00:01<00:00, 59.20it/s]\n",
      "Epoch 5/5 - Train loss: 0.0337, score: 0.8427: 100%|█| 603/603 [01:28<00:00,  6.\n",
      "\t  - Target loss: 0.0324, score: 0.8469: 100%|██| 76/76 [00:01<00:00, 59.39it/s]\n",
      "/tmp/ipykernel_338246/468855567.py:18: FutureWarning: You are using `torch.load` with `weights_only=False` (the current default value), which uses the default pickle module implicitly. It is possible to construct malicious pickle data which will execute arbitrary code during unpickling (See https://github.com/pytorch/pytorch/blob/main/SECURITY.md#untrusted-models for more details). In a future release, the default value for `weights_only` will be flipped to `True`. This limits the functions that could be executed during unpickling. Arbitrary objects will no longer be allowed to be loaded via this mode unless they are explicitly allowlisted by the user via `torch.serialization.add_safe_globals`. We recommend you start setting `weights_only=True` for any use case where you don't have full control of the loaded file. Please open an issue on GitHub for any issues related to this experimental feature.\n",
      "  model.load_state_dict(torch.load(f\"{OUTPUT_FOLDER}best_model_{args.get_model_name()}.pt\"))\n"
     ]
    },
    {
     "name": "stdout",
     "output_type": "stream",
     "text": [
      "\n",
      "###### PHASE 1 FINISHED ##########\n"
     ]
    },
    {
     "name": "stderr",
     "output_type": "stream",
     "text": [
      "\t  - Target loss: 0.0324, score: 0.8469: 100%|██| 76/76 [00:01<00:00, 60.42it/s]\n"
     ]
    },
    {
     "data": {
      "image/png": "[encoded data removed]",
      "text/plain": [
       "<Figure size 640x480 with 2 Axes>"
      ]
     },
     "metadata": {},
     "output_type": "display_data"
    },
    {
     "name": "stderr",
     "output_type": "stream",
     "text": [
      "/tmp/ipykernel_338246/3885554587.py:68: FutureWarning: You are using `torch.load` with `weights_only=False` (the current default value), which uses the default pickle module implicitly. It is possible to construct malicious pickle data which will execute arbitrary code during unpickling (See https://github.com/pytorch/pytorch/blob/main/SECURITY.md#untrusted-models for more details). In a future release, the default value for `weights_only` will be flipped to `True`. This limits the functions that could be executed during unpickling. Arbitrary objects will no longer be allowed to be loaded via this mode unless they are explicitly allowlisted by the user via `torch.serialization.add_safe_globals`. We recommend you start setting `weights_only=True` for any use case where you don't have full control of the loaded file. Please open an issue on GitHub for any issues related to this experimental feature.\n",
      "  model.load_state_dict(torch.load(f\"{OUTPUT_FOLDER}best_model_{args.get_model_name()}.pt\"))\n",
      "100%|███████████████████████████████████████████| 76/76 [00:01<00:00, 65.96it/s]\n",
      "100%|███████████████████████████████████████████| 76/76 [00:01<00:00, 66.10it/s]\n",
      "Epoch 1/10 - Train loss: 0.0301, score: 0.8639: 100%|█| 603/603 [01:28<00:00,  6\n",
      "\t  - Target loss: 0.0368, score: 0.8259: 100%|██| 76/76 [00:01<00:00, 60.35it/s]\n",
      "Epoch 2/10 - Train loss: 0.0300, score: 0.8655: 100%|█| 603/603 [01:28<00:00,  6\n",
      "\t  - Target loss: 0.0347, score: 0.8341: 100%|██| 76/76 [00:01<00:00, 60.73it/s]\n",
      "Epoch 3/10 - Train loss: 0.0295, score: 0.8690: 100%|█| 603/603 [01:29<00:00,  6\n",
      "\t  - Target loss: 0.0348, score: 0.8360: 100%|██| 76/76 [00:01<00:00, 59.25it/s]\n",
      "Epoch 4/10 - Train loss: 0.0290, score: 0.8711: 100%|█| 603/603 [01:29<00:00,  6\n",
      "\t  - Target loss: 0.0359, score: 0.8334: 100%|██| 76/76 [00:01<00:00, 60.47it/s]\n",
      "Epoch 5/10 - Train loss: 0.0288, score: 0.8736: 100%|█| 603/603 [01:28<00:00,  6\n",
      "\t  - Target loss: 0.0356, score: 0.8340: 100%|██| 76/76 [00:01<00:00, 59.53it/s]\n",
      "Epoch 6/10 - Train loss: 0.0283, score: 0.8737: 100%|█| 603/603 [01:28<00:00,  6\n",
      "\t  - Target loss: 0.0360, score: 0.8309: 100%|██| 76/76 [00:01<00:00, 59.87it/s]\n",
      "Epoch 7/10 - Train loss: 0.0280, score: 0.8762: 100%|█| 603/603 [01:29<00:00,  6\n",
      "\t  - Target loss: 0.0348, score: 0.8363: 100%|██| 76/76 [00:01<00:00, 60.23it/s]\n",
      "Epoch 8/10 - Train loss: 0.0279, score: 0.8769: 100%|█| 603/603 [01:29<00:00,  6\n",
      "\t  - Target loss: 0.0342, score: 0.8395: 100%|██| 76/76 [00:01<00:00, 60.54it/s]\n",
      "Epoch 9/10 - Train loss: 0.0276, score: 0.8786: 100%|█| 603/603 [01:29<00:00,  6\n",
      "\t  - Target loss: 0.0346, score: 0.8358: 100%|██| 76/76 [00:01<00:00, 59.71it/s]\n",
      "Epoch 10/10 - Train loss: 0.0276, score: 0.8783: 100%|█| 603/603 [01:29<00:00,  \n",
      "\t  - Target loss: 0.0341, score: 0.8390: 100%|██| 76/76 [00:01<00:00, 59.69it/s]\n",
      "/tmp/ipykernel_338246/468855567.py:38: FutureWarning: You are using `torch.load` with `weights_only=False` (the current default value), which uses the default pickle module implicitly. It is possible to construct malicious pickle data which will execute arbitrary code during unpickling (See https://github.com/pytorch/pytorch/blob/main/SECURITY.md#untrusted-models for more details). In a future release, the default value for `weights_only` will be flipped to `True`. This limits the functions that could be executed during unpickling. Arbitrary objects will no longer be allowed to be loaded via this mode unless they are explicitly allowlisted by the user via `torch.serialization.add_safe_globals`. We recommend you start setting `weights_only=True` for any use case where you don't have full control of the loaded file. Please open an issue on GitHub for any issues related to this experimental feature.\n",
      "  model.load_state_dict(torch.load(f\"{OUTPUT_FOLDER}best_model_{args.get_model_name()}.pt\"))\n"
     ]
    },
    {
     "name": "stdout",
     "output_type": "stream",
     "text": [
      "\n",
      "###### PHASE 2 FINISHED ########OUTPUT_FOLDER##\n"
     ]
    },
    {
     "name": "stderr",
     "output_type": "stream",
     "text": [
      "\t  - Target loss: 0.0341, score: 0.8390: 100%|██| 76/76 [00:01<00:00, 58.78it/s]\n"
     ]
    },
    {
     "data": {
      "image/png": "[encoded data removed]",
      "text/plain": [
       "<Figure size 640x480 with 2 Axes>"
      ]
     },
     "metadata": {},
     "output_type": "display_data"
    },
    {
     "name": "stderr",
     "output_type": "stream",
     "text": [
      "/tmp/ipykernel_338246/3885554587.py:68: FutureWarning: You are using `torch.load` with `weights_only=False` (the current default value), which uses the default pickle module implicitly. It is possible to construct malicious pickle data which will execute arbitrary code during unpickling (See https://github.com/pytorch/pytorch/blob/main/SECURITY.md#untrusted-models for more details). In a future release, the default value for `weights_only` will be flipped to `True`. This limits the functions that could be executed during unpickling. Arbitrary objects will no longer be allowed to be loaded via this mode unless they are explicitly allowlisted by the user via `torch.serialization.add_safe_globals`. We recommend you start setting `weights_only=True` for any use case where you don't have full control of the loaded file. Please open an issue on GitHub for any issues related to this experimental feature.\n",
      "  model.load_state_dict(torch.load(f\"{OUTPUT_FOLDER}best_model_{args.get_model_name()}.pt\"))\n",
      "100%|███████████████████████████████████████████| 76/76 [00:01<00:00, 66.06it/s]\n",
      "100%|███████████████████████████████████████████| 76/76 [00:01<00:00, 65.85it/s]\n",
      "Epoch 1/20 - Train loss: 0.0336, score: 0.8450: 100%|█| 339/339 [00:48<00:00,  6\n",
      "\t  - Target loss: 0.0328, score: 0.8422: 100%|██| 76/76 [00:01<00:00, 59.80it/s]\n",
      "Epoch 2/20 - Train loss: 0.0366, score: 0.8329: 100%|█| 339/339 [00:48<00:00,  6\n",
      "\t  - Target loss: 0.0330, score: 0.8397: 100%|██| 76/76 [00:01<00:00, 59.84it/s]\n",
      "Epoch 3/20 - Train loss: 0.0371, score: 0.8276: 100%|█| 339/339 [00:49<00:00,  6\n",
      "\t  - Target loss: 0.0347, score: 0.8320: 100%|██| 76/76 [00:01<00:00, 60.18it/s]\n",
      "Epoch 4/20 - Train loss: 0.0355, score: 0.8358: 100%|█| 339/339 [00:49<00:00,  6\n",
      "\t  - Target loss: 0.0325, score: 0.8423: 100%|██| 76/76 [00:01<00:00, 59.51it/s]\n",
      "Epoch 5/20 - Train loss: 0.0348, score: 0.8414: 100%|█| 339/339 [00:49<00:00,  6\n",
      "\t  - Target loss: 0.0320, score: 0.8477: 100%|██| 76/76 [00:01<00:00, 59.87it/s]\n",
      "Epoch 6/20 - Train loss: 0.0344, score: 0.8431: 100%|█| 339/339 [00:49<00:00,  6\n",
      "\t  - Target loss: 0.0296, score: 0.8576: 100%|██| 76/76 [00:01<00:00, 59.95it/s]\n",
      "Epoch 7/20 - Train loss: 0.0336, score: 0.8444: 100%|█| 339/339 [00:49<00:00,  6\n",
      "\t  - Target loss: 0.0276, score: 0.8734: 100%|██| 76/76 [00:01<00:00, 59.40it/s]\n",
      "Epoch 8/20 - Train loss: 0.0326, score: 0.8518: 100%|█| 339/339 [00:49<00:00,  6\n",
      "\t  - Target loss: 0.0270, score: 0.8670: 100%|██| 76/76 [00:01<00:00, 60.26it/s]\n",
      "Epoch 9/20 - Train loss: 0.0315, score: 0.8562: 100%|█| 339/339 [00:49<00:00,  6\n",
      "\t  - Target loss: 0.0252, score: 0.8816: 100%|██| 76/76 [00:01<00:00, 59.95it/s]\n",
      "Epoch 10/20 - Train loss: 0.0312, score: 0.8590: 100%|█| 339/339 [00:49<00:00,  \n",
      "\t  - Target loss: 0.0228, score: 0.8979: 100%|██| 76/76 [00:01<00:00, 59.85it/s]\n",
      "Epoch 11/20 - Train loss: 0.0294, score: 0.8671: 100%|█| 339/339 [00:49<00:00,  \n",
      "\t  - Target loss: 0.0211, score: 0.9083: 100%|██| 76/76 [00:01<00:00, 59.64it/s]\n",
      "Epoch 12/20 - Train loss: 0.0282, score: 0.8737: 100%|█| 339/339 [00:48<00:00,  \n",
      "\t  - Target loss: 0.0194, score: 0.9143: 100%|██| 76/76 [00:01<00:00, 59.56it/s]\n",
      "Epoch 13/20 - Train loss: 0.0272, score: 0.8808: 100%|█| 339/339 [00:49<00:00,  \n",
      "\t  - Target loss: 0.0166, score: 0.9301: 100%|██| 76/76 [00:01<00:00, 59.48it/s]\n",
      "Epoch 14/20 - Train loss: 0.0261, score: 0.8858: 100%|█| 339/339 [00:49<00:00,  \n",
      "\t  - Target loss: 0.0154, score: 0.9468: 100%|██| 76/76 [00:01<00:00, 59.32it/s]\n",
      "Epoch 15/20 - Train loss: 0.0247, score: 0.8933: 100%|█| 339/339 [00:49<00:00,  \n",
      "\t  - Target loss: 0.0136, score: 0.9527: 100%|██| 76/76 [00:01<00:00, 59.34it/s]\n",
      "Epoch 16/20 - Train loss: 0.0237, score: 0.9011: 100%|█| 339/339 [00:49<00:00,  \n",
      "\t  - Target loss: 0.0118, score: 0.9620: 100%|██| 76/76 [00:01<00:00, 58.91it/s]\n",
      "Epoch 17/20 - Train loss: 0.0228, score: 0.9071: 100%|█| 339/339 [00:49<00:00,  \n",
      "\t  - Target loss: 0.0111, score: 0.9679: 100%|██| 76/76 [00:01<00:00, 59.41it/s]\n",
      "Epoch 18/20 - Train loss: 0.0224, score: 0.9094: 100%|█| 339/339 [00:49<00:00,  \n",
      "\t  - Target loss: 0.0104, score: 0.9723: 100%|██| 76/76 [00:01<00:00, 58.81it/s]\n",
      "Epoch 19/20 - Train loss: 0.0217, score: 0.9131: 100%|█| 339/339 [00:49<00:00,  \n",
      "\t  - Target loss: 0.0103, score: 0.9726: 100%|██| 76/76 [00:01<00:00, 59.40it/s]\n",
      "Epoch 20/20 - Train loss: 0.0215, score: 0.9156: 100%|█| 339/339 [00:48<00:00,  \n",
      "\t  - Target loss: 0.0101, score: 0.9733: 100%|██| 76/76 [00:01<00:00, 58.76it/s]\n",
      "/tmp/ipykernel_338246/468855567.py:66: FutureWarning: You are using `torch.load` with `weights_only=False` (the current default value), which uses the default pickle module implicitly. It is possible to construct malicious pickle data which will execute arbitrary code during unpickling (See https://github.com/pytorch/pytorch/blob/main/SECURITY.md#untrusted-models for more details). In a future release, the default value for `weights_only` will be flipped to `True`. This limits the functions that could be executed during unpickling. Arbitrary objects will no longer be allowed to be loaded via this mode unless they are explicitly allowlisted by the user via `torch.serialization.add_safe_globals`. We recommend you start setting `weights_only=True` for any use case where you don't have full control of the loaded file. Please open an issue on GitHub for any issues related to this experimental feature.\n",
      "  model.load_state_dict(torch.load(f\"{OUTPUT_FOLDER}best_model_{args.get_model_name()}.pt\"))\n"
     ]
    },
    {
     "name": "stdout",
     "output_type": "stream",
     "text": [
      "\n",
      "###### PHASE 3 FINISHED ##########\n"
     ]
    },
    {
     "name": "stderr",
     "output_type": "stream",
     "text": [
      "\t  - Target loss: 0.0101, score: 0.9733: 100%|██| 76/76 [00:01<00:00, 59.73it/s]\n"
     ]
    },
    {
     "data": {
      "image/png": "[encoded data removed]",
      "text/plain": [
       "<Figure size 640x480 with 2 Axes>"
      ]
     },
     "metadata": {},
     "output_type": "display_data"
    },
    {
     "name": "stderr",
     "output_type": "stream",
     "text": [
      "/tmp/ipykernel_338246/3885554587.py:68: FutureWarning: You are using `torch.load` with `weights_only=False` (the current default value), which uses the default pickle module implicitly. It is possible to construct malicious pickle data which will execute arbitrary code during unpickling (See https://github.com/pytorch/pytorch/blob/main/SECURITY.md#untrusted-models for more details). In a future release, the default value for `weights_only` will be flipped to `True`. This limits the functions that could be executed during unpickling. Arbitrary objects will no longer be allowed to be loaded via this mode unless they are explicitly allowlisted by the user via `torch.serialization.add_safe_globals`. We recommend you start setting `weights_only=True` for any use case where you don't have full control of the loaded file. Please open an issue on GitHub for any issues related to this experimental feature.\n",
      "  model.load_state_dict(torch.load(f\"{OUTPUT_FOLDER}best_model_{args.get_model_name()}.pt\"))\n",
      "100%|███████████████████████████████████████████| 76/76 [00:01<00:00, 65.28it/s]\n",
      "100%|███████████████████████████████████████████| 76/76 [00:01<00:00, 64.90it/s]\n",
      "/tmp/ipykernel_338246/3885554587.py:111: UserWarning: FigureCanvasAgg is non-interactive, and thus cannot be shown\n",
      "  fig.show()\n"
     ]
    },
    {
     "name": "stdout",
     "output_type": "stream",
     "text": [
      "Training completed in: 00h 39m 30s\n"
     ]
    },
    {
     "name": "stderr",
     "output_type": "stream",
     "text": [
      "\t  - Target loss: 0.0101, score: 0.9733: 100%|██| 76/76 [00:01<00:00, 59.81it/s]\n"
     ]
    },
    {
     "data": {
      "image/png": "[encoded data removed]",
      "text/plain": [
       "<Figure size 2200x600 with 2 Axes>"
      ]
     },
     "metadata": {},
     "output_type": "display_data"
    },
    {
     "data": {
      "image/png": "[encoded data removed]",
      "text/plain": [
       "<Figure size 640x480 with 2 Axes>"
      ]
     },
     "metadata": {},
     "output_type": "display_data"
    },
    {
     "name": "stderr",
     "output_type": "stream",
     "text": [
      "/tmp/ipykernel_338246/3885554587.py:68: FutureWarning: You are using `torch.load` with `weights_only=False` (the current default value), which uses the default pickle module implicitly. It is possible to construct malicious pickle data which will execute arbitrary code during unpickling (See https://github.com/pytorch/pytorch/blob/main/SECURITY.md#untrusted-models for more details). In a future release, the default value for `weights_only` will be flipped to `True`. This limits the functions that could be executed during unpickling. Arbitrary objects will no longer be allowed to be loaded via this mode unless they are explicitly allowlisted by the user via `torch.serialization.add_safe_globals`. We recommend you start setting `weights_only=True` for any use case where you don't have full control of the loaded file. Please open an issue on GitHub for any issues related to this experimental feature.\n",
      "  model.load_state_dict(torch.load(f\"{OUTPUT_FOLDER}best_model_{args.get_model_name()}.pt\"))\n",
      "100%|███████████████████████████████████████████| 76/76 [00:01<00:00, 65.68it/s]\n"
     ]
    },
    {
     "ename": "TypeError",
     "evalue": "calculate_test_accuracy() missing 1 required positional argument: 'true_labels'",
     "output_type": "error",
     "traceback": [
      "\u001b[0;31m---------------------------------------------------------------------------\u001b[0m",
      "\u001b[0;31mTypeError\u001b[0m                                 Traceback (most recent call last)",
      "Cell \u001b[0;32mIn[181], line 7\u001b[0m\n\u001b[1;32m      4\u001b[0m model \u001b[38;5;241m=\u001b[39m EEGClassifier()\n\u001b[1;32m      6\u001b[0m \u001b[38;5;66;03m# Call the new function that tracks time and saves the model\u001b[39;00m\n\u001b[0;32m----> 7\u001b[0m \u001b[43mrun_and_save_model\u001b[49m\u001b[43m(\u001b[49m\u001b[43margs\u001b[49m\u001b[43m,\u001b[49m\u001b[43m \u001b[49m\u001b[43mmodel\u001b[49m\u001b[43m,\u001b[49m\u001b[43m \u001b[49m\u001b[43msource_data\u001b[49m\u001b[43m,\u001b[49m\u001b[43m \u001b[49m\u001b[43msource_labels\u001b[49m\u001b[43m,\u001b[49m\u001b[43m \u001b[49m\u001b[43mtarget_data\u001b[49m\u001b[43m,\u001b[49m\u001b[43m \u001b[49m\u001b[43mtarget_labels\u001b[49m\u001b[43m,\u001b[49m\u001b[43m \u001b[49m\u001b[43mtest_data\u001b[49m\u001b[43m,\u001b[49m\u001b[43m \u001b[49m\u001b[43mmixup_data\u001b[49m\u001b[38;5;241;43m=\u001b[39;49m\u001b[38;5;28;43;01mNone\u001b[39;49;00m\u001b[43m,\u001b[49m\u001b[43m \u001b[49m\u001b[43msupervised_mixup_data\u001b[49m\u001b[38;5;241;43m=\u001b[39;49m\u001b[43msupervised_mixup_data\u001b[49m\u001b[43m)\u001b[49m\n\u001b[1;32m      9\u001b[0m args_array\u001b[38;5;241m.\u001b[39mappend(args)\n",
      "Cell \u001b[0;32mIn[179], line 35\u001b[0m, in \u001b[0;36mrun_and_save_model\u001b[0;34m(args, model, source_data, source_labels, target_data, target_labels, test_data, mixup_data, supervised_mixup_data)\u001b[0m\n\u001b[1;32m     29\u001b[0m start_test_time \u001b[38;5;241m=\u001b[39m time\u001b[38;5;241m.\u001b[39mtime()\n\u001b[1;32m     31\u001b[0m \u001b[38;5;66;03m# Validate and save predictions (already done in supervised_run)\u001b[39;00m\n\u001b[1;32m     32\u001b[0m \u001b[38;5;66;03m# You can modify supervised_run to return the accuracies if not already done\u001b[39;00m\n\u001b[1;32m     33\u001b[0m \n\u001b[1;32m     34\u001b[0m \u001b[38;5;66;03m# Capture validation and test accuracy\u001b[39;00m\n\u001b[0;32m---> 35\u001b[0m valid_score, test_score \u001b[38;5;241m=\u001b[39m \u001b[43mvalidate_and_test\u001b[49m\u001b[43m(\u001b[49m\u001b[43margs\u001b[49m\u001b[43m,\u001b[49m\u001b[43m \u001b[49m\u001b[43mmodel\u001b[49m\u001b[43m,\u001b[49m\u001b[43m \u001b[49m\u001b[43mtarget_data\u001b[49m\u001b[43m,\u001b[49m\u001b[43m \u001b[49m\u001b[43mtarget_labels\u001b[49m\u001b[43m,\u001b[49m\u001b[43m \u001b[49m\u001b[43mtest_data\u001b[49m\u001b[43m)\u001b[49m\n\u001b[1;32m     37\u001b[0m \u001b[38;5;66;03m# Calculate and save testing time\u001b[39;00m\n\u001b[1;32m     38\u001b[0m end_test_time \u001b[38;5;241m=\u001b[39m time\u001b[38;5;241m.\u001b[39mtime()\n",
      "Cell \u001b[0;32mIn[179], line 79\u001b[0m, in \u001b[0;36mvalidate_and_test\u001b[0;34m(args, model, target_data, target_labels, test_data)\u001b[0m\n\u001b[1;32m     77\u001b[0m \u001b[38;5;66;03m# Test (Using predict_and_save if it also returns test accuracy)\u001b[39;00m\n\u001b[1;32m     78\u001b[0m test_output \u001b[38;5;241m=\u001b[39m get_prediction(args, model, test_data)\n\u001b[0;32m---> 79\u001b[0m test_accuracy \u001b[38;5;241m=\u001b[39m \u001b[43mcalculate_test_accuracy\u001b[49m\u001b[43m(\u001b[49m\u001b[43mtest_output\u001b[49m\u001b[43m)\u001b[49m  \u001b[38;5;66;03m# Define a function to calculate test accuracy\u001b[39;00m\n\u001b[1;32m     81\u001b[0m \u001b[38;5;28;01mreturn\u001b[39;00m valid_score, test_accuracy\n",
      "\u001b[0;31mTypeError\u001b[0m: calculate_test_accuracy() missing 1 required positional argument: 'true_labels'"
     ]
    }
   ],
   "source": [
    "args_array = []\n",
    "args = base_args(\"eeg-classifier_seed-42\")\n",
    "seed_everything(args.seed)\n",
    "model = EEGClassifier()\n",
    "\n",
    "# Call the new function that tracks time and saves the model\n",
    "run_and_save_model(args, model, source_data, source_labels, target_data, target_labels, test_data, mixup_data=None, supervised_mixup_data=supervised_mixup_data)\n",
    "\n",
    "args_array.append(args)\n"
   ]
  }
 ],
 "metadata": {
  "accelerator": "GPU",
  "colab": {
   "collapsed_sections": [],
   "name": "beetl-sleep-mixup_vat_v3.ipynb",
   "provenance": [],
   "toc_visible": true
  },
  "kaggle": {
   "accelerator": "gpu",
   "dataSources": [
    {
     "datasetId": 5250581,
     "sourceId": 8744495,
     "sourceType": "datasetVersion"
    }
   ],
   "dockerImageVersionId": 30733,
   "isGpuEnabled": true,
   "isInternetEnabled": true,
   "language": "python",
   "sourceType": "notebook"
  },
  "kernelspec": {
   "display_name": "Python 3 (ipykernel)",
   "language": "python",
   "name": "python3"
  },
  "language_info": {
   "codemirror_mode": {
    "name": "ipython",
    "version": 3
   },
   "file_extension": ".py",
   "mimetype": "text/x-python",
   "name": "python",
   "nbconvert_exporter": "python",
   "pygments_lexer": "ipython3",
   "version": "3.12.2"
  }
 },
 "nbformat": 4,
 "nbformat_minor": 4
}
